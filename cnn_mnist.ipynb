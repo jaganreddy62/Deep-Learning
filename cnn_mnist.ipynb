{
 "cells": [
  {
   "cell_type": "markdown",
   "metadata": {
    "colab_type": "text",
    "id": "hKq6jaCdwe-I"
   },
   "source": [
    "# **Various cnn models on MNIST DATA SET**"
   ]
  },
  {
   "cell_type": "code",
   "execution_count": 0,
   "metadata": {
    "colab": {},
    "colab_type": "code",
    "id": "7jrvjMFvyIto"
   },
   "outputs": [],
   "source": [
    "\n",
    "#defining function to plot \n",
    "%matplotlib notebook\n",
    "import matplotlib.pyplot as plt\n",
    "import numpy as np\n",
    "import time\n",
    "\n",
    "def plt_dynamic(x, vy, ty, ax, colors=['b']):\n",
    "    ax.plot(x, vy, 'b', label=\"Validation Loss\")\n",
    "    ax.plot(x, ty, 'r', label=\"Train Loss\")\n",
    "    plt.legend()\n",
    "    plt.grid()\n",
    "    fig.canvas.draw()\n",
    "    plt.show()"
   ]
  },
  {
   "cell_type": "code",
   "execution_count": 0,
   "metadata": {
    "colab": {},
    "colab_type": "code",
    "id": "2turYEgB0z8C"
   },
   "outputs": [],
   "source": [
    "#imorting required libarires\n",
    "%matplotlib inline\n",
    "from __future__ import print_function\n",
    "import keras\n",
    "from keras.datasets import mnist\n",
    "from keras.models import Sequential\n",
    "from keras.layers import Dense, Dropout, Flatten\n",
    "from keras.layers import Conv2D, MaxPooling2D\n",
    "from keras import backend as K"
   ]
  },
  {
   "cell_type": "code",
   "execution_count": 0,
   "metadata": {
    "colab": {},
    "colab_type": "code",
    "id": "DlwmYzHR1FSs"
   },
   "outputs": [],
   "source": [
    "#catch size,number of epochs and number of o/p classes\n",
    "batch_size = 128\n",
    "num_classes = 10\n",
    "epochs = 12\n",
    "\n",
    "# input image dimensions\n",
    "img_rows, img_cols = 28, 28\n",
    "\n",
    "# the data, split between train and test sets\n",
    "(x_train, y_train), (x_test, y_test) = mnist.load_data()"
   ]
  },
  {
   "cell_type": "code",
   "execution_count": 0,
   "metadata": {
    "colab": {},
    "colab_type": "code",
    "id": "6hCT4DVr1Vch"
   },
   "outputs": [],
   "source": [
    "\n",
    "#choosing the right backend availabe\n",
    "\n",
    "if K.image_data_format() == 'channels_first':\n",
    "    x_train = x_train.reshape(x_train.shape[0], 1, img_rows, img_cols)\n",
    "    x_test = x_test.reshape(x_test.shape[0], 1, img_rows, img_cols)\n",
    "    input_shape = (1, img_rows, img_cols)\n",
    "else:\n",
    "    x_train = x_train.reshape(x_train.shape[0], img_rows, img_cols, 1)\n",
    "    x_test = x_test.reshape(x_test.shape[0], img_rows, img_cols, 1)\n",
    "    input_shape = (img_rows, img_cols, 1)\n"
   ]
  },
  {
   "cell_type": "code",
   "execution_count": 54,
   "metadata": {
    "colab": {
     "base_uri": "https://localhost:8080/",
     "height": 67
    },
    "colab_type": "code",
    "executionInfo": {
     "elapsed": 853,
     "status": "ok",
     "timestamp": 1546672300689,
     "user": {
      "displayName": "Jagan Reddy",
      "photoUrl": "https://lh6.googleusercontent.com/-0OMRpgAMIpI/AAAAAAAAAAI/AAAAAAAAAXU/BmpQ6N8mdxc/s64/photo.jpg",
      "userId": "00769824995077261950"
     },
     "user_tz": -330
    },
    "id": "ckndhqWT2WiM",
    "outputId": "115c9886-bd37-46f9-a194-b7b2c6401f0a"
   },
   "outputs": [
    {
     "name": "stdout",
     "output_type": "stream",
     "text": [
      "x_train shape: (60000, 28, 28, 1)\n",
      "60000 train samples\n",
      "10000 test samples\n"
     ]
    }
   ],
   "source": [
    "x_train = x_train.astype('float32')\n",
    "x_test = x_test.astype('float32')\n",
    "#normalizing the inouts\n",
    "x_train /= 255\n",
    "x_test /= 255\n",
    "print('x_train shape:', x_train.shape)\n",
    "print(x_train.shape[0], 'train samples')\n",
    "print(x_test.shape[0], 'test samples')\n",
    "\n",
    "# convert class vectors to binary class matrices\n",
    "y_train = keras.utils.to_categorical(y_train, num_classes)\n",
    "y_test = keras.utils.to_categorical(y_test, num_classes)\n"
   ]
  },
  {
   "cell_type": "markdown",
   "metadata": {
    "colab_type": "text",
    "id": "Xx5I_IMI3WVD"
   },
   "source": [
    "**Model1 : **32channels(kernels(3X3)&activation=relu)+64channels(kernels(3X3)&activation=relu)+Maxpooling(2x2)+Drouppout =0.25+Dense(128,activation=relu)+Drouppout =0.25+softmax layer"
   ]
  },
  {
   "cell_type": "code",
   "execution_count": 55,
   "metadata": {
    "colab": {
     "base_uri": "https://localhost:8080/",
     "height": 753
    },
    "colab_type": "code",
    "executionInfo": {
     "elapsed": 120708,
     "status": "ok",
     "timestamp": 1546672425981,
     "user": {
      "displayName": "Jagan Reddy",
      "photoUrl": "https://lh6.googleusercontent.com/-0OMRpgAMIpI/AAAAAAAAAAI/AAAAAAAAAXU/BmpQ6N8mdxc/s64/photo.jpg",
      "userId": "00769824995077261950"
     },
     "user_tz": -330
    },
    "id": "K7Q5vZf0wIQC",
    "outputId": "91b70950-966e-481c-b9ce-ce4ef4a92da4"
   },
   "outputs": [
    {
     "name": "stdout",
     "output_type": "stream",
     "text": [
      "Train on 60000 samples, validate on 10000 samples\n",
      "Epoch 1/12\n",
      "60000/60000 [==============================] - 12s 203us/step - loss: 0.2655 - acc: 0.9180 - val_loss: 0.0668 - val_acc: 0.9781\n",
      "Epoch 2/12\n",
      "60000/60000 [==============================] - 10s 160us/step - loss: 0.0874 - acc: 0.9738 - val_loss: 0.0385 - val_acc: 0.9871\n",
      "Epoch 3/12\n",
      "60000/60000 [==============================] - 10s 159us/step - loss: 0.0659 - acc: 0.9804 - val_loss: 0.0354 - val_acc: 0.9884\n",
      "Epoch 4/12\n",
      "60000/60000 [==============================] - 10s 159us/step - loss: 0.0539 - acc: 0.9844 - val_loss: 0.0297 - val_acc: 0.9901\n",
      "Epoch 5/12\n",
      "60000/60000 [==============================] - 10s 161us/step - loss: 0.0461 - acc: 0.9864 - val_loss: 0.0321 - val_acc: 0.9902\n",
      "Epoch 6/12\n",
      "60000/60000 [==============================] - 10s 163us/step - loss: 0.0412 - acc: 0.9874 - val_loss: 0.0264 - val_acc: 0.9919\n",
      "Epoch 7/12\n",
      "60000/60000 [==============================] - 10s 159us/step - loss: 0.0385 - acc: 0.9881 - val_loss: 0.0264 - val_acc: 0.9913\n",
      "Epoch 8/12\n",
      "60000/60000 [==============================] - 10s 160us/step - loss: 0.0352 - acc: 0.9896 - val_loss: 0.0286 - val_acc: 0.9905\n",
      "Epoch 9/12\n",
      "60000/60000 [==============================] - 10s 158us/step - loss: 0.0317 - acc: 0.9900 - val_loss: 0.0272 - val_acc: 0.9919\n",
      "Epoch 10/12\n",
      "60000/60000 [==============================] - 10s 159us/step - loss: 0.0287 - acc: 0.9910 - val_loss: 0.0307 - val_acc: 0.9903\n",
      "Epoch 11/12\n",
      "60000/60000 [==============================] - 10s 159us/step - loss: 0.0273 - acc: 0.9916 - val_loss: 0.0251 - val_acc: 0.9918\n",
      "Epoch 12/12\n",
      "60000/60000 [==============================] - 10s 159us/step - loss: 0.0267 - acc: 0.9917 - val_loss: 0.0274 - val_acc: 0.9922\n",
      "Test loss: 0.02737215687529142\n",
      "Test accuracy: 0.9922\n"
     ]
    },
    {
     "data": {
      "image/png": "[encoded data removed]",
      "text/plain": [
       "<matplotlib.figure.Figure at 0x7f6b2c4015f8>"
      ]
     },
     "metadata": {
      "tags": []
     },
     "output_type": "display_data"
    }
   ],
   "source": [
    "#model1 \n",
    "\n",
    "model = Sequential()\n",
    "model.add(Conv2D(32, kernel_size=(3, 3),\n",
    "                 activation='relu',\n",
    "                 input_shape=input_shape))\n",
    "model.add(Conv2D(64, (3, 3), activation='relu'))\n",
    "model.add(MaxPooling2D(pool_size=(2, 2)))\n",
    "model.add(Dropout(0.25))\n",
    "model.add(Flatten())\n",
    "model.add(Dense(128, activation='relu'))\n",
    "model.add(Dropout(0.5))\n",
    "model.add(Dense(num_classes, activation='softmax'))\n",
    "\n",
    "model.compile(loss=keras.losses.categorical_crossentropy,\n",
    "              optimizer=keras.optimizers.Adadelta(),\n",
    "              metrics=['accuracy'])\n",
    "\n",
    "history=model.fit(x_train, y_train,\n",
    "          batch_size=batch_size,\n",
    "          epochs=epochs,\n",
    "          verbose=1,\n",
    "          validation_data=(x_test, y_test))\n",
    "score = model.evaluate(x_test, y_test, verbose=0)\n",
    "print('Test loss:', score[0])\n",
    "print('Test accuracy:', score[1])\n",
    "fig,ax = plt.subplots(1,1)\n",
    "ax.set_xlabel('epoch') ; ax.set_ylabel('Categorical Crossentropy Loss')\n",
    "\n",
    "# list of epoch numbers\n",
    "x = list(range(1,epochs+1))\n",
    "\n",
    "vy = history.history['val_loss']\n",
    "ty = history.history['loss']\n",
    "plt_dynamic(x, vy, ty, ax)\n"
   ]
  },
  {
   "cell_type": "markdown",
   "metadata": {
    "colab_type": "text",
    "id": "JNespAr74glu"
   },
   "source": [
    "By looking above  above plot we can see after 8 epochs the train and validation loss are same and less. we are getting test accuracy 99.22"
   ]
  },
  {
   "cell_type": "markdown",
   "metadata": {
    "colab_type": "text",
    "id": "uMPpvcfvPKRE"
   },
   "source": [
    "**Model2**:\n",
    "32channels(kernels(2X2)&activation=relu)+64channels(kernels(2X2)&activation=relu)+Maxpooling(2x2)+Drouppout =0.25+Dense(128,activation=relu)+Drouppout =0.5+softmax layer"
   ]
  },
  {
   "cell_type": "code",
   "execution_count": 33,
   "metadata": {
    "colab": {
     "base_uri": "https://localhost:8080/",
     "height": 803
    },
    "colab_type": "code",
    "executionInfo": {
     "elapsed": 116048,
     "status": "ok",
     "timestamp": 1546668242771,
     "user": {
      "displayName": "Jagan Reddy",
      "photoUrl": "https://lh6.googleusercontent.com/-0OMRpgAMIpI/AAAAAAAAAAI/AAAAAAAAAXU/BmpQ6N8mdxc/s64/photo.jpg",
      "userId": "00769824995077261950"
     },
     "user_tz": -330
    },
    "id": "NnmsjKJrPJY3",
    "outputId": "6403b286-376e-49c7-9e0d-5d16503aae72"
   },
   "outputs": [
    {
     "name": "stdout",
     "output_type": "stream",
     "text": [
      "x_train shape: (60000, 28, 28, 1)\n",
      "60000 train samples\n",
      "10000 test samples\n",
      "Train on 60000 samples, validate on 10000 samples\n",
      "Epoch 1/12\n",
      "60000/60000 [==============================] - 11s 180us/step - loss: 0.3251 - acc: 0.8995 - val_loss: 0.0754 - val_acc: 0.9765\n",
      "Epoch 2/12\n",
      "60000/60000 [==============================] - 9s 154us/step - loss: 0.1152 - acc: 0.9650 - val_loss: 0.0541 - val_acc: 0.9823\n",
      "Epoch 3/12\n",
      "60000/60000 [==============================] - 9s 154us/step - loss: 0.0886 - acc: 0.9737 - val_loss: 0.0495 - val_acc: 0.9841\n",
      "Epoch 4/12\n",
      "60000/60000 [==============================] - 9s 154us/step - loss: 0.0705 - acc: 0.9792 - val_loss: 0.0422 - val_acc: 0.9855\n",
      "Epoch 5/12\n",
      "60000/60000 [==============================] - 9s 154us/step - loss: 0.0622 - acc: 0.9812 - val_loss: 0.0383 - val_acc: 0.9871\n",
      "Epoch 6/12\n",
      "60000/60000 [==============================] - 9s 154us/step - loss: 0.0549 - acc: 0.9834 - val_loss: 0.0385 - val_acc: 0.9873\n",
      "Epoch 7/12\n",
      "60000/60000 [==============================] - 9s 154us/step - loss: 0.0497 - acc: 0.9846 - val_loss: 0.0404 - val_acc: 0.9862\n",
      "Epoch 8/12\n",
      "60000/60000 [==============================] - 9s 155us/step - loss: 0.0479 - acc: 0.9854 - val_loss: 0.0340 - val_acc: 0.9882\n",
      "Epoch 9/12\n",
      "60000/60000 [==============================] - 9s 155us/step - loss: 0.0414 - acc: 0.9867 - val_loss: 0.0350 - val_acc: 0.9881\n",
      "Epoch 10/12\n",
      "60000/60000 [==============================] - 9s 155us/step - loss: 0.0397 - acc: 0.9879 - val_loss: 0.0372 - val_acc: 0.9879\n",
      "Epoch 11/12\n",
      "60000/60000 [==============================] - 9s 154us/step - loss: 0.0382 - acc: 0.9882 - val_loss: 0.0385 - val_acc: 0.9878\n",
      "Epoch 12/12\n",
      "60000/60000 [==============================] - 9s 154us/step - loss: 0.0345 - acc: 0.9890 - val_loss: 0.0355 - val_acc: 0.9883\n",
      "Test loss: 0.03551420975246292\n",
      "Test accuracy: 0.9883\n"
     ]
    },
    {
     "data": {
      "image/png": "[encoded data removed]",
      "text/plain": [
       "<matplotlib.figure.Figure at 0x7f6b41e8bc18>"
      ]
     },
     "metadata": {
      "tags": []
     },
     "output_type": "display_data"
    }
   ],
   "source": [
    "#model2\n",
    "model = Sequential()\n",
    "\n",
    "model.add(Conv2D(32, kernel_size=(2, 2),\n",
    "                 activation='relu',\n",
    "                 input_shape=input_shape))\n",
    "model.add(Conv2D(64, (2, 2), activation='relu'))\n",
    "model.add(MaxPooling2D(pool_size=(2, 2)))\n",
    "model.add(Dropout(0.25))\n",
    "model.add(Flatten())\n",
    "model.add(Dense(128, activation='relu'))\n",
    "model.add(Dropout(0.5))\n",
    "model.add(Dense(num_classes, activation='softmax'))\n",
    "\n",
    "model.compile(loss=keras.losses.categorical_crossentropy,\n",
    "              optimizer=keras.optimizers.Adadelta(),\n",
    "              metrics=['accuracy'])\n",
    "\n",
    "history = model.fit(x_train, y_train,\n",
    "          batch_size=batch_size,\n",
    "          epochs=epochs,\n",
    "          verbose=1,\n",
    "          validation_data=(x_test, y_test))\n",
    "score = model.evaluate(x_test, y_test, verbose=0)\n",
    "print('Test loss:', score[0])\n",
    "print('Test accuracy:', score[1])\n",
    "\n",
    "fig,ax = plt.subplots(1,1)\n",
    "ax.set_xlabel('epoch') ; ax.set_ylabel('Categorical Crossentropy Loss')\n",
    "\n",
    "# list of epoch numbers\n",
    "x = list(range(1,epochs+1))\n",
    "\n",
    "vy = history.history['val_loss']\n",
    "ty = history.history['loss']\n",
    "plt_dynamic(x, vy, ty, ax)\n"
   ]
  },
  {
   "cell_type": "markdown",
   "metadata": {
    "colab_type": "text",
    "id": "7mpk50W35a46"
   },
   "source": [
    "we can see after 10 epochs train and validation errors are same. we are getting 98.8 accuracy on test data"
   ]
  },
  {
   "cell_type": "markdown",
   "metadata": {
    "colab_type": "text",
    "id": "SLaHzhpZdoWq"
   },
   "source": [
    "**Model3 **:32channels(kernels(5X5)&activation=relu)+64channels(kernels(5X5)&activation=relu)+Maxpooling(2x2)+Drouppout =0.25+Dense(128,activation=relu)+Drouppout =0.5+softmax layer"
   ]
  },
  {
   "cell_type": "code",
   "execution_count": 34,
   "metadata": {
    "colab": {
     "base_uri": "https://localhost:8080/",
     "height": 753
    },
    "colab_type": "code",
    "executionInfo": {
     "elapsed": 106183,
     "status": "ok",
     "timestamp": 1546668438626,
     "user": {
      "displayName": "Jagan Reddy",
      "photoUrl": "https://lh6.googleusercontent.com/-0OMRpgAMIpI/AAAAAAAAAAI/AAAAAAAAAXU/BmpQ6N8mdxc/s64/photo.jpg",
      "userId": "00769824995077261950"
     },
     "user_tz": -330
    },
    "id": "DT3OXhNbZaK8",
    "outputId": "a5d7aa5e-b8ed-4e8d-dd3c-0087fd4567c5"
   },
   "outputs": [
    {
     "name": "stdout",
     "output_type": "stream",
     "text": [
      "Train on 60000 samples, validate on 10000 samples\n",
      "Epoch 1/12\n",
      "60000/60000 [==============================] - 10s 174us/step - loss: 0.2207 - acc: 0.9311 - val_loss: 0.0449 - val_acc: 0.9849\n",
      "Epoch 2/12\n",
      "60000/60000 [==============================] - 8s 141us/step - loss: 0.0728 - acc: 0.9786 - val_loss: 0.0383 - val_acc: 0.9874\n",
      "Epoch 3/12\n",
      "60000/60000 [==============================] - 8s 141us/step - loss: 0.0541 - acc: 0.9843 - val_loss: 0.0290 - val_acc: 0.9896\n",
      "Epoch 4/12\n",
      "60000/60000 [==============================] - 8s 141us/step - loss: 0.0436 - acc: 0.9869 - val_loss: 0.0223 - val_acc: 0.9923\n",
      "Epoch 5/12\n",
      "60000/60000 [==============================] - 8s 140us/step - loss: 0.0378 - acc: 0.9892 - val_loss: 0.0215 - val_acc: 0.9922\n",
      "Epoch 6/12\n",
      "60000/60000 [==============================] - 8s 141us/step - loss: 0.0337 - acc: 0.9902 - val_loss: 0.0229 - val_acc: 0.9920\n",
      "Epoch 7/12\n",
      "60000/60000 [==============================] - 8s 141us/step - loss: 0.0293 - acc: 0.9910 - val_loss: 0.0200 - val_acc: 0.9940\n",
      "Epoch 8/12\n",
      "60000/60000 [==============================] - 8s 141us/step - loss: 0.0278 - acc: 0.9916 - val_loss: 0.0232 - val_acc: 0.9918\n",
      "Epoch 9/12\n",
      "60000/60000 [==============================] - 8s 140us/step - loss: 0.0245 - acc: 0.9927 - val_loss: 0.0224 - val_acc: 0.9929\n",
      "Epoch 10/12\n",
      "60000/60000 [==============================] - 8s 141us/step - loss: 0.0222 - acc: 0.9928 - val_loss: 0.0207 - val_acc: 0.9933\n",
      "Epoch 11/12\n",
      "60000/60000 [==============================] - 9s 142us/step - loss: 0.0212 - acc: 0.9936 - val_loss: 0.0194 - val_acc: 0.9940\n",
      "Epoch 12/12\n",
      "60000/60000 [==============================] - 8s 141us/step - loss: 0.0185 - acc: 0.9945 - val_loss: 0.0190 - val_acc: 0.9942\n",
      "Test loss: 0.0189604414328669\n",
      "Test accuracy: 0.9942\n"
     ]
    },
    {
     "data": {
      "image/png": "[encoded data removed]",
      "text/plain": [
       "<matplotlib.figure.Figure at 0x7f6b4049a128>"
      ]
     },
     "metadata": {
      "tags": []
     },
     "output_type": "display_data"
    }
   ],
   "source": [
    "model = Sequential()\n",
    "\n",
    "model.add(Conv2D(32, kernel_size=(5, 5),\n",
    "                 activation='relu',\n",
    "                 input_shape=input_shape))\n",
    "model.add(Conv2D(64, (5, 5), activation='relu'))\n",
    "model.add(MaxPooling2D(pool_size=(2, 2)))\n",
    "model.add(Dropout(0.25))\n",
    "model.add(Flatten())\n",
    "model.add(Dense(128, activation='relu'))\n",
    "model.add(Dropout(0.5))\n",
    "model.add(Dense(num_classes, activation='softmax'))\n",
    "\n",
    "model.compile(loss=keras.losses.categorical_crossentropy,\n",
    "              optimizer=keras.optimizers.Adadelta(),\n",
    "              metrics=['accuracy'])\n",
    "\n",
    "history=model.fit(x_train, y_train,\n",
    "          batch_size=batch_size,\n",
    "          epochs=epochs,\n",
    "          verbose=1,\n",
    "          validation_data=(x_test, y_test))\n",
    "score = model.evaluate(x_test, y_test, verbose=0)\n",
    "print('Test loss:', score[0])\n",
    "print('Test accuracy:', score[1])\n",
    "fig,ax = plt.subplots(1,1)\n",
    "ax.set_xlabel('epoch') ; ax.set_ylabel('Categorical Crossentropy Loss')\n",
    "\n",
    "# list of epoch numbers\n",
    "x = list(range(1,epochs+1))\n",
    "\n",
    "vy = history.history['val_loss']\n",
    "ty = history.history['loss']\n",
    "plt_dynamic(x, vy, ty, ax)\n"
   ]
  },
  {
   "cell_type": "markdown",
   "metadata": {
    "colab_type": "text",
    "id": "4yuuYt7V53Fu"
   },
   "source": [
    "we are getting 99.42 accuracy on test data"
   ]
  },
  {
   "cell_type": "markdown",
   "metadata": {
    "colab_type": "text",
    "id": "EG2fxBwI6C69"
   },
   "source": [
    "**Model4:**32channels(kernels(3X3)&activation=relu)+64channels(kernels(3X3)&activation=relu)+128channels(kernels(3X3)&activation=relu)+64channels(kernels(3X3)&activation=relu)+32channels(kernels(3X3)&activation=relu)+Maxpooling(2x2)+Drouppout =0.25+Dense(128,activation=relu)+Drouppout =0.5+softmax layer"
   ]
  },
  {
   "cell_type": "code",
   "execution_count": 35,
   "metadata": {
    "colab": {
     "base_uri": "https://localhost:8080/",
     "height": 753
    },
    "colab_type": "code",
    "executionInfo": {
     "elapsed": 288203,
     "status": "ok",
     "timestamp": 1546668868836,
     "user": {
      "displayName": "Jagan Reddy",
      "photoUrl": "https://lh6.googleusercontent.com/-0OMRpgAMIpI/AAAAAAAAAAI/AAAAAAAAAXU/BmpQ6N8mdxc/s64/photo.jpg",
      "userId": "00769824995077261950"
     },
     "user_tz": -330
    },
    "id": "S7THjqsVaE3R",
    "outputId": "c04fa6b3-0d1d-4845-af05-8a62c5b89f2a"
   },
   "outputs": [
    {
     "name": "stdout",
     "output_type": "stream",
     "text": [
      "Train on 60000 samples, validate on 10000 samples\n",
      "Epoch 1/12\n",
      "60000/60000 [==============================] - 25s 424us/step - loss: 0.2807 - acc: 0.9125 - val_loss: 0.0691 - val_acc: 0.9771\n",
      "Epoch 2/12\n",
      "60000/60000 [==============================] - 23s 391us/step - loss: 0.0874 - acc: 0.9742 - val_loss: 0.0335 - val_acc: 0.9879\n",
      "Epoch 3/12\n",
      "60000/60000 [==============================] - 24s 394us/step - loss: 0.0644 - acc: 0.9809 - val_loss: 0.0331 - val_acc: 0.9887\n",
      "Epoch 4/12\n",
      "60000/60000 [==============================] - 23s 390us/step - loss: 0.0525 - acc: 0.9846 - val_loss: 0.0246 - val_acc: 0.9916\n",
      "Epoch 5/12\n",
      "60000/60000 [==============================] - 23s 390us/step - loss: 0.0446 - acc: 0.9863 - val_loss: 0.0242 - val_acc: 0.9921\n",
      "Epoch 6/12\n",
      "60000/60000 [==============================] - 23s 390us/step - loss: 0.0404 - acc: 0.9881 - val_loss: 0.0237 - val_acc: 0.9915\n",
      "Epoch 7/12\n",
      "60000/60000 [==============================] - 23s 391us/step - loss: 0.0365 - acc: 0.9895 - val_loss: 0.0225 - val_acc: 0.9931\n",
      "Epoch 8/12\n",
      "60000/60000 [==============================] - 24s 393us/step - loss: 0.0319 - acc: 0.9902 - val_loss: 0.0227 - val_acc: 0.9939\n",
      "Epoch 9/12\n",
      "60000/60000 [==============================] - 24s 399us/step - loss: 0.0297 - acc: 0.9911 - val_loss: 0.0304 - val_acc: 0.9918\n",
      "Epoch 10/12\n",
      "60000/60000 [==============================] - 24s 393us/step - loss: 0.0290 - acc: 0.9913 - val_loss: 0.0211 - val_acc: 0.9935\n",
      "Epoch 11/12\n",
      "60000/60000 [==============================] - 24s 393us/step - loss: 0.0271 - acc: 0.9918 - val_loss: 0.0238 - val_acc: 0.9936\n",
      "Epoch 12/12\n",
      "60000/60000 [==============================] - 24s 393us/step - loss: 0.0234 - acc: 0.9927 - val_loss: 0.0208 - val_acc: 0.9929\n",
      "Test loss: 0.02077138002095644\n",
      "Test accuracy: 0.9929\n"
     ]
    },
    {
     "data": {
      "image/png": "[encoded data removed]",
      "text/plain": [
       "<matplotlib.figure.Figure at 0x7f6b403337f0>"
      ]
     },
     "metadata": {
      "tags": []
     },
     "output_type": "display_data"
    }
   ],
   "source": [
    "model = Sequential()\n",
    "\n",
    "model.add(Conv2D(32, kernel_size=(3, 3),\n",
    "                 activation='relu',\n",
    "                 input_shape=input_shape))\n",
    "model.add(Conv2D(64, (3, 3), activation='relu'))\n",
    "model.add(Conv2D(128, (3, 3), activation='relu'))\n",
    "model.add(Conv2D(64, (3, 3), activation='relu'))\n",
    "model.add(Conv2D(32, (3, 3), activation='relu'))\n",
    "model.add(MaxPooling2D(pool_size=(2, 2)))\n",
    "model.add(Dropout(0.25))\n",
    "model.add(Flatten())\n",
    "model.add(Dense(128, activation='relu'))\n",
    "model.add(Dropout(0.5))\n",
    "model.add(Dense(num_classes, activation='softmax'))\n",
    "\n",
    "model.compile(loss=keras.losses.categorical_crossentropy,\n",
    "              optimizer=keras.optimizers.Adadelta(),\n",
    "              metrics=['accuracy'])\n",
    "\n",
    "history=model.fit(x_train, y_train,\n",
    "          batch_size=batch_size,\n",
    "          epochs=epochs,\n",
    "          verbose=1,\n",
    "          validation_data=(x_test, y_test))\n",
    "score = model.evaluate(x_test, y_test, verbose=0)\n",
    "print('Test loss:', score[0])\n",
    "print('Test accuracy:', score[1])\n",
    "fig,ax = plt.subplots(1,1)\n",
    "ax.set_xlabel('epoch') ; ax.set_ylabel('Categorical Crossentropy Loss')\n",
    "\n",
    "# list of epoch numbers\n",
    "x = list(range(1,epochs+1))\n",
    "\n",
    "vy = history.history['val_loss']\n",
    "ty = history.history['loss']\n",
    "plt_dynamic(x, vy, ty, ax)\n"
   ]
  },
  {
   "cell_type": "code",
   "execution_count": 0,
   "metadata": {
    "colab": {},
    "colab_type": "code",
    "id": "jK3A2zek6lqK"
   },
   "outputs": [],
   "source": []
  },
  {
   "cell_type": "markdown",
   "metadata": {
    "colab_type": "text",
    "id": "jqHQ7Kt26mVa"
   },
   "source": [
    "we are getting 99.29% accuracy on test data"
   ]
  },
  {
   "cell_type": "markdown",
   "metadata": {
    "colab_type": "text",
    "id": "m703kyo86tpI"
   },
   "source": [
    "Model5:32channels(kernels(5X5)&activation=relu)+64channels(kernels(5X5)&activation=relu)+128channels(kernels(5X5)&activation=relu)+64channels(kernels(3X3)&activation=relu)+32channels(kernels(5X5)&activation=relu)+Maxpooling(2x2)+Drouppout =0.25+Dense(128,activation=relu)+Drouppout =0.5+softmax layer"
   ]
  },
  {
   "cell_type": "code",
   "execution_count": 36,
   "metadata": {
    "colab": {
     "base_uri": "https://localhost:8080/",
     "height": 754
    },
    "colab_type": "code",
    "executionInfo": {
     "elapsed": 226298,
     "status": "ok",
     "timestamp": 1546669175581,
     "user": {
      "displayName": "Jagan Reddy",
      "photoUrl": "https://lh6.googleusercontent.com/-0OMRpgAMIpI/AAAAAAAAAAI/AAAAAAAAAXU/BmpQ6N8mdxc/s64/photo.jpg",
      "userId": "00769824995077261950"
     },
     "user_tz": -330
    },
    "id": "nEe4L7TmeIKz",
    "outputId": "ca3690e3-4139-4306-db2c-f06f33eb13b1"
   },
   "outputs": [
    {
     "name": "stdout",
     "output_type": "stream",
     "text": [
      "Train on 60000 samples, validate on 10000 samples\n",
      "Epoch 1/12\n",
      "60000/60000 [==============================] - 21s 343us/step - loss: 0.3884 - acc: 0.8742 - val_loss: 0.0581 - val_acc: 0.9826\n",
      "Epoch 2/12\n",
      "60000/60000 [==============================] - 18s 307us/step - loss: 0.0860 - acc: 0.9761 - val_loss: 0.0398 - val_acc: 0.9863\n",
      "Epoch 3/12\n",
      "60000/60000 [==============================] - 18s 307us/step - loss: 0.0569 - acc: 0.9838 - val_loss: 0.0229 - val_acc: 0.9922\n",
      "Epoch 4/12\n",
      "60000/60000 [==============================] - 18s 307us/step - loss: 0.0442 - acc: 0.9879 - val_loss: 0.0273 - val_acc: 0.9924\n",
      "Epoch 5/12\n",
      "60000/60000 [==============================] - 18s 307us/step - loss: 0.0377 - acc: 0.9892 - val_loss: 0.0232 - val_acc: 0.9935\n",
      "Epoch 6/12\n",
      "60000/60000 [==============================] - 18s 306us/step - loss: 0.0307 - acc: 0.9913 - val_loss: 0.0205 - val_acc: 0.9940\n",
      "Epoch 7/12\n",
      "60000/60000 [==============================] - 18s 305us/step - loss: 0.0284 - acc: 0.9922 - val_loss: 0.0198 - val_acc: 0.9931\n",
      "Epoch 8/12\n",
      "60000/60000 [==============================] - 18s 305us/step - loss: 0.0245 - acc: 0.9933 - val_loss: 0.0256 - val_acc: 0.9926\n",
      "Epoch 9/12\n",
      "60000/60000 [==============================] - 18s 305us/step - loss: 0.0207 - acc: 0.9944 - val_loss: 0.0258 - val_acc: 0.9933\n",
      "Epoch 10/12\n",
      "60000/60000 [==============================] - 18s 304us/step - loss: 0.0194 - acc: 0.9950 - val_loss: 0.0257 - val_acc: 0.9930\n",
      "Epoch 11/12\n",
      "60000/60000 [==============================] - 18s 305us/step - loss: 0.0173 - acc: 0.9949 - val_loss: 0.0198 - val_acc: 0.9945\n",
      "Epoch 12/12\n",
      "60000/60000 [==============================] - 18s 305us/step - loss: 0.0160 - acc: 0.9954 - val_loss: 0.0195 - val_acc: 0.9946\n",
      "Test loss: 0.019544492030337823\n",
      "Test accuracy: 0.9946\n"
     ]
    },
    {
     "data": {
      "image/png": "[encoded data removed]",
      "text/plain": [
       "<matplotlib.figure.Figure at 0x7f6b2fa1df98>"
      ]
     },
     "metadata": {
      "tags": []
     },
     "output_type": "display_data"
    }
   ],
   "source": [
    "#model5\n",
    "model = Sequential()\n",
    "\n",
    "model.add(Conv2D(32, kernel_size=(5, 5),\n",
    "                 activation='relu',\n",
    "                 input_shape=input_shape))\n",
    "model.add(Conv2D(64, (5, 5), activation='relu'))\n",
    "model.add(Conv2D(128, (5, 5), activation='relu'))\n",
    "model.add(Conv2D(64, (5, 5), activation='relu'))\n",
    "model.add(Conv2D(32, (5, 5), activation='relu'))\n",
    "model.add(MaxPooling2D(pool_size=(2, 2)))\n",
    "model.add(Dropout(0.25))\n",
    "model.add(Flatten())\n",
    "model.add(Dense(128, activation='relu'))\n",
    "model.add(Dropout(0.5))\n",
    "model.add(Dense(num_classes, activation='softmax'))\n",
    "\n",
    "model.compile(loss=keras.losses.categorical_crossentropy,\n",
    "              optimizer=keras.optimizers.Adadelta(),\n",
    "              metrics=['accuracy'])\n",
    "\n",
    "history=model.fit(x_train, y_train,\n",
    "          batch_size=batch_size,\n",
    "          epochs=epochs,\n",
    "          verbose=1,\n",
    "          validation_data=(x_test, y_test))\n",
    "score = model.evaluate(x_test, y_test, verbose=0)\n",
    "print('Test loss:', score[0])\n",
    "print('Test accuracy:', score[1])\n",
    "\n",
    "fig,ax = plt.subplots(1,1)\n",
    "ax.set_xlabel('epoch') ; ax.set_ylabel('Categorical Crossentropy Loss')\n",
    "\n",
    "# list of epoch numbers\n",
    "x = list(range(1,epochs+1))\n",
    "\n",
    "vy = history.history['val_loss']\n",
    "ty = history.history['loss']\n",
    "plt_dynamic(x, vy, ty, ax)\n"
   ]
  },
  {
   "cell_type": "markdown",
   "metadata": {
    "colab_type": "text",
    "id": "UvveWOwggPSU"
   },
   "source": [
    "we are getting accuracy of 99.46"
   ]
  },
  {
   "cell_type": "markdown",
   "metadata": {
    "colab_type": "text",
    "id": "nb9_C4hKu7Bc"
   },
   "source": [
    "Model 6:"
   ]
  },
  {
   "cell_type": "code",
   "execution_count": 0,
   "metadata": {
    "colab": {},
    "colab_type": "code",
    "id": "-czkPGuiu-Mf"
   },
   "outputs": [],
   "source": [
    "model = Sequential()\n",
    "model.add(Conv2D(96,(11,11),activation='relu',input_shape=(28,28,1)))\n",
    "model.add(MaxPooling2D(pool_size=(2,2)))\n",
    "model.add(Conv2D(256,(5,5),padding='same',activation='relu'))\n",
    "model.add(MaxPooling2D(pool_size=(2,2)))\n",
    "model.add(Conv2D(384,(3,3),padding='same',activation='relu'))\n",
    "model.add(Conv2D(256,(3,3),padding='same',activation='relu'))\n",
    "model.add(MaxPooling2D(pool_size=(2,2)))\n",
    "model.add(Flatten())\n",
    "model.add(Dense(3072,activation='relu'))\n",
    "model.add(Dropout(0.25))\n",
    "model.add(Dense(4096,activation='relu'))\n",
    "model.add(Dropout(0.25))\n",
    "model.add(Dense(10,activation='softmax'))\n"
   ]
  },
  {
   "cell_type": "code",
   "execution_count": 39,
   "metadata": {
    "colab": {
     "base_uri": "https://localhost:8080/",
     "height": 755
    },
    "colab_type": "code",
    "executionInfo": {
     "elapsed": 362917,
     "status": "ok",
     "timestamp": 1546669957091,
     "user": {
      "displayName": "Jagan Reddy",
      "photoUrl": "https://lh6.googleusercontent.com/-0OMRpgAMIpI/AAAAAAAAAAI/AAAAAAAAAXU/BmpQ6N8mdxc/s64/photo.jpg",
      "userId": "00769824995077261950"
     },
     "user_tz": -330
    },
    "id": "XSNltOl51fWp",
    "outputId": "0bc9bba2-9a5f-428b-bd3a-85c504565e47"
   },
   "outputs": [
    {
     "name": "stdout",
     "output_type": "stream",
     "text": [
      "Train on 60000 samples, validate on 10000 samples\n",
      "Epoch 1/12\n",
      "60000/60000 [==============================] - 32s 538us/step - loss: 0.1921 - acc: 0.9381 - val_loss: 0.0815 - val_acc: 0.9773\n",
      "Epoch 2/12\n",
      "60000/60000 [==============================] - 30s 494us/step - loss: 0.0554 - acc: 0.9844 - val_loss: 0.0481 - val_acc: 0.9862\n",
      "Epoch 3/12\n",
      "60000/60000 [==============================] - 30s 494us/step - loss: 0.0420 - acc: 0.9885 - val_loss: 0.0548 - val_acc: 0.9875\n",
      "Epoch 4/12\n",
      "60000/60000 [==============================] - 30s 495us/step - loss: 0.0389 - acc: 0.9902 - val_loss: 0.0350 - val_acc: 0.9904\n",
      "Epoch 5/12\n",
      "60000/60000 [==============================] - 30s 494us/step - loss: 0.0305 - acc: 0.9919 - val_loss: 0.0367 - val_acc: 0.9910\n",
      "Epoch 6/12\n",
      "60000/60000 [==============================] - 30s 495us/step - loss: 0.0287 - acc: 0.9921 - val_loss: 0.0454 - val_acc: 0.9878\n",
      "Epoch 7/12\n",
      "60000/60000 [==============================] - 30s 496us/step - loss: 0.0266 - acc: 0.9934 - val_loss: 0.0444 - val_acc: 0.9893\n",
      "Epoch 8/12\n",
      "60000/60000 [==============================] - 30s 493us/step - loss: 0.0220 - acc: 0.9943 - val_loss: 0.0471 - val_acc: 0.9910\n",
      "Epoch 9/12\n",
      "60000/60000 [==============================] - 30s 495us/step - loss: 0.0187 - acc: 0.9952 - val_loss: 0.0351 - val_acc: 0.9922\n",
      "Epoch 10/12\n",
      "60000/60000 [==============================] - 30s 497us/step - loss: 0.0198 - acc: 0.9954 - val_loss: 0.0709 - val_acc: 0.9883\n",
      "Epoch 11/12\n",
      "60000/60000 [==============================] - 30s 495us/step - loss: 0.0200 - acc: 0.9953 - val_loss: 0.0358 - val_acc: 0.9918\n",
      "Epoch 12/12\n",
      "60000/60000 [==============================] - 30s 493us/step - loss: 0.0242 - acc: 0.9945 - val_loss: 0.0575 - val_acc: 0.9889\n",
      "Test loss: 0.040644852292698895\n",
      "Test accuracy: 0.9919\n"
     ]
    },
    {
     "data": {
      "image/png": "[encoded data removed]",
      "text/plain": [
       "<matplotlib.figure.Figure at 0x7f6b2e7a3ac8>"
      ]
     },
     "metadata": {
      "tags": []
     },
     "output_type": "display_data"
    }
   ],
   "source": [
    "model.compile(optimizer='adam',loss='categorical_crossentropy',metrics=['accuracy'])\n",
    "history=model.fit(x_train,y_train,epochs=epochs,batch_size=batch_size,validation_data=[x_test,y_test])\n",
    "score = model.evaluate(x_test, y_test, verbose=0)\n",
    "print('Test loss:', score[0])\n",
    "print('Test accuracy:', score[1])\n",
    "fig,ax = plt.subplots(1,1)\n",
    "ax.set_xlabel('epoch') ; ax.set_ylabel('Categorical Crossentropy Loss')\n",
    "\n",
    "# list of epoch numbers\n",
    "x = list(range(1,epochs+1))\n",
    "\n",
    "vy = history.history['val_loss']\n",
    "ty = history.history['loss']\n",
    "plt_dynamic(x, vy, ty, ax)\n"
   ]
  },
  {
   "cell_type": "markdown",
   "metadata": {
    "colab_type": "text",
    "id": "KIVblmsy7afr"
   },
   "source": [
    " we are getting 99.19% accuracy"
   ]
  },
  {
   "cell_type": "markdown",
   "metadata": {
    "colab_type": "text",
    "id": "xu1JaV0duBGS"
   },
   "source": [
    "LeNet5"
   ]
  },
  {
   "cell_type": "code",
   "execution_count": 44,
   "metadata": {
    "colab": {
     "base_uri": "https://localhost:8080/",
     "height": 138
    },
    "colab_type": "code",
    "executionInfo": {
     "elapsed": 800,
     "status": "ok",
     "timestamp": 1546670414157,
     "user": {
      "displayName": "Jagan Reddy",
      "photoUrl": "https://lh6.googleusercontent.com/-0OMRpgAMIpI/AAAAAAAAAAI/AAAAAAAAAXU/BmpQ6N8mdxc/s64/photo.jpg",
      "userId": "00769824995077261950"
     },
     "user_tz": -330
    },
    "id": "SEVe8Mkx5sNx",
    "outputId": "cc6dd87d-c826-4180-82e0-a8fe6c446901"
   },
   "outputs": [
    {
     "name": "stderr",
     "output_type": "stream",
     "text": [
      "/usr/local/lib/python3.6/dist-packages/ipykernel_launcher.py:4: UserWarning: Update your `Conv2D` call to the Keras 2 API: `Conv2D(6, (5, 5), input_shape=(28, 28, 1..., padding=\"valid\")`\n",
      "  after removing the cwd from sys.path.\n",
      "/usr/local/lib/python3.6/dist-packages/ipykernel_launcher.py:8: UserWarning: Update your `Conv2D` call to the Keras 2 API: `Conv2D(16, (5, 5), padding=\"valid\")`\n",
      "  \n",
      "/usr/local/lib/python3.6/dist-packages/ipykernel_launcher.py:13: UserWarning: Update your `Conv2D` call to the Keras 2 API: `Conv2D(120, (1, 1), padding=\"valid\")`\n",
      "  del sys.path[0]\n"
     ]
    }
   ],
   "source": [
    "from keras.layers.convolutional import Convolution2D, MaxPooling2D, ZeroPadding2D, AveragePooling2D\n",
    "model = Sequential()\n",
    "\n",
    "model.add(Convolution2D(6, 5, 5, border_mode='valid', input_shape = (28,28,1)))\n",
    "model.add(MaxPooling2D(pool_size=(2, 2)))\n",
    "model.add(Activation(\"sigmoid\"))\n",
    "\n",
    "model.add(Convolution2D(16, 5, 5, border_mode='valid'))\n",
    "model.add(MaxPooling2D(pool_size=(2, 2)))\n",
    "model.add(Activation(\"sigmoid\"))\n",
    "model.add(Dropout(0.5))\n",
    "\n",
    "model.add(Convolution2D(120, 1, 1, border_mode='valid'))\n",
    "\n",
    "model.add(Flatten())\n",
    "model.add(Dense(84))\n",
    "model.add(Activation(\"sigmoid\"))\n",
    "model.add(Dense(10))\n",
    "model.add(Activation('softmax'))"
   ]
  },
  {
   "cell_type": "markdown",
   "metadata": {
    "colab_type": "text",
    "id": "6aB1nNnMuinp"
   },
   "source": []
  },
  {
   "cell_type": "code",
   "execution_count": 45,
   "metadata": {
    "colab": {
     "base_uri": "https://localhost:8080/",
     "height": 753
    },
    "colab_type": "code",
    "executionInfo": {
     "elapsed": 70523,
     "status": "ok",
     "timestamp": 1546670512891,
     "user": {
      "displayName": "Jagan Reddy",
      "photoUrl": "https://lh6.googleusercontent.com/-0OMRpgAMIpI/AAAAAAAAAAI/AAAAAAAAAXU/BmpQ6N8mdxc/s64/photo.jpg",
      "userId": "00769824995077261950"
     },
     "user_tz": -330
    },
    "id": "X-gUo3gMMDvz",
    "outputId": "b20be1a2-5184-4ee8-c197-ca3d35f60551"
   },
   "outputs": [
    {
     "name": "stdout",
     "output_type": "stream",
     "text": [
      "Train on 60000 samples, validate on 10000 samples\n",
      "Epoch 1/12\n",
      "60000/60000 [==============================] - 8s 130us/step - loss: 1.1792 - acc: 0.5979 - val_loss: 0.3068 - val_acc: 0.9161\n",
      "Epoch 2/12\n",
      "60000/60000 [==============================] - 5s 89us/step - loss: 0.3303 - acc: 0.9002 - val_loss: 0.1639 - val_acc: 0.9534\n",
      "Epoch 3/12\n",
      "60000/60000 [==============================] - 5s 90us/step - loss: 0.2318 - acc: 0.9285 - val_loss: 0.1260 - val_acc: 0.9615\n",
      "Epoch 4/12\n",
      "60000/60000 [==============================] - 5s 90us/step - loss: 0.1920 - acc: 0.9416 - val_loss: 0.0993 - val_acc: 0.9694\n",
      "Epoch 5/12\n",
      "60000/60000 [==============================] - 5s 90us/step - loss: 0.1740 - acc: 0.9454 - val_loss: 0.0891 - val_acc: 0.9722\n",
      "Epoch 6/12\n",
      "60000/60000 [==============================] - 5s 90us/step - loss: 0.1571 - acc: 0.9510 - val_loss: 0.0811 - val_acc: 0.9749\n",
      "Epoch 7/12\n",
      "60000/60000 [==============================] - 5s 90us/step - loss: 0.1453 - acc: 0.9543 - val_loss: 0.0753 - val_acc: 0.9767\n",
      "Epoch 8/12\n",
      "60000/60000 [==============================] - 5s 90us/step - loss: 0.1353 - acc: 0.9575 - val_loss: 0.0711 - val_acc: 0.9765\n",
      "Epoch 9/12\n",
      "60000/60000 [==============================] - 5s 92us/step - loss: 0.1280 - acc: 0.9598 - val_loss: 0.0635 - val_acc: 0.9800\n",
      "Epoch 10/12\n",
      "60000/60000 [==============================] - 6s 95us/step - loss: 0.1234 - acc: 0.9612 - val_loss: 0.0618 - val_acc: 0.9797\n",
      "Epoch 11/12\n",
      "60000/60000 [==============================] - 6s 93us/step - loss: 0.1169 - acc: 0.9641 - val_loss: 0.0608 - val_acc: 0.9807\n",
      "Epoch 12/12\n",
      "60000/60000 [==============================] - 5s 89us/step - loss: 0.1126 - acc: 0.9654 - val_loss: 0.0582 - val_acc: 0.9821\n",
      "Test loss: 0.05821627130433917\n",
      "Test accuracy: 0.9821\n"
     ]
    },
    {
     "data": {
      "image/png": "[encoded data removed]",
      "text/plain": [
       "<matplotlib.figure.Figure at 0x7f6b2dc28e48>"
      ]
     },
     "metadata": {
      "tags": []
     },
     "output_type": "display_data"
    }
   ],
   "source": [
    "model.compile(optimizer='adam',loss='categorical_crossentropy',metrics=['accuracy'])\n",
    "history = model.fit(x_train,y_train,epochs=epochs,batch_size=batch_size,validation_data=[x_test,y_test])\n",
    "score = model.evaluate(x_test, y_test, verbose=0)\n",
    "print('Test loss:', score[0])\n",
    "print('Test accuracy:', score[1])\n",
    "fig,ax = plt.subplots(1,1)\n",
    "ax.set_xlabel('epoch') ; ax.set_ylabel('Categorical Crossentropy Loss')\n",
    "\n",
    "# list of epoch numbers\n",
    "x = list(range(1,epochs+1))\n",
    "\n",
    "vy = history.history['val_loss']\n",
    "ty = history.history['loss']\n",
    "plt_dynamic(x, vy, ty, ax)"
   ]
  },
  {
   "cell_type": "markdown",
   "metadata": {
    "colab_type": "text",
    "id": "NKZvW6ke9niC"
   },
   "source": [
    "on LeNet architeture we are getting 98.21 accuracy"
   ]
  },
  {
   "cell_type": "markdown",
   "metadata": {
    "colab_type": "text",
    "id": "UWIoQUX8-WUZ"
   },
   "source": [
    "\n",
    "**Performance table**\n",
    "\n"
   ]
  },
  {
   "cell_type": "code",
   "execution_count": 0,
   "metadata": {
    "colab": {},
    "colab_type": "code",
    "id": "ZVvPdlK9-ckv"
   },
   "outputs": [],
   "source": [
    "from prettytable import PrettyTable\n",
    "x = PrettyTable()\n",
    "x.field_names= ['Model','Train_accuracy','Test_accuracy']\n",
    "x.add_row(['Model1','99.17','99.12'])\n",
    "x.add_row(['Model2','98.90','98.83'])\n",
    "x.add_row(['Model3','99.45','99.42'])\n",
    "x.add_row(['Model4','99.27','99.29'])\n",
    "x.add_row(['Model5','99.54','99.46'])\n",
    "x.add_row(['Model6','99.45','99.19'])\n",
    "x.add_row(['LeNet5','96.85','98.21'])\n"
   ]
  },
  {
   "cell_type": "code",
   "execution_count": 63,
   "metadata": {
    "colab": {
     "base_uri": "https://localhost:8080/",
     "height": 202
    },
    "colab_type": "code",
    "executionInfo": {
     "elapsed": 868,
     "status": "ok",
     "timestamp": 1546675092068,
     "user": {
      "displayName": "Jagan Reddy",
      "photoUrl": "https://lh6.googleusercontent.com/-0OMRpgAMIpI/AAAAAAAAAAI/AAAAAAAAAXU/BmpQ6N8mdxc/s64/photo.jpg",
      "userId": "00769824995077261950"
     },
     "user_tz": -330
    },
    "id": "qVz8SI_7Axg4",
    "outputId": "4f1cf4df-4053-4dc9-93d7-3131f06afbd9"
   },
   "outputs": [
    {
     "name": "stdout",
     "output_type": "stream",
     "text": [
      "+--------+----------------+---------------+\n",
      "| Model  | Train_accuracy | Test_accuracy |\n",
      "+--------+----------------+---------------+\n",
      "| Model1 |     99.17      |     99.12     |\n",
      "| Model2 |     98.90      |     98.83     |\n",
      "| Model3 |     99.45      |     99.42     |\n",
      "| Model4 |     99.27      |     99.29     |\n",
      "| Model5 |     99.54      |     99.46     |\n",
      "| Model6 |     99.45      |     99.19     |\n",
      "| LeNet5 |     96.85      |     98.21     |\n",
      "+--------+----------------+---------------+\n"
     ]
    }
   ],
   "source": [
    "print(x)"
   ]
  },
  {
   "cell_type": "markdown",
   "metadata": {
    "colab_type": "text",
    "id": "mtmnn_ndBa6x"
   },
   "source": [
    "Conclusion : By looking above table we can say model 3 is the best model"
   ]
  }
 ],
 "metadata": {
  "accelerator": "GPU",
  "colab": {
   "collapsed_sections": [],
   "name": "Copy of cnn_mnist.ipynb",
   "provenance": [
    {
     "file_id": "19XuE3lFqL_x5mYcoc5EkLaTFkwRKZjQW",
     "timestamp": 1546571897473
    }
   ],
   "version": "0.3.2"
  },
  "kernelspec": {
   "display_name": "Python 3",
   "language": "python",
   "name": "python3"
  },
  "language_info": {
   "codemirror_mode": {
    "name": "ipython",
    "version": 3
   },
   "file_extension": ".py",
   "mimetype": "text/x-python",
   "name": "python",
   "nbconvert_exporter": "python",
   "pygments_lexer": "ipython3",
   "version": "3.6.6"
  }
 },
 "nbformat": 4,
 "nbformat_minor": 1
}
