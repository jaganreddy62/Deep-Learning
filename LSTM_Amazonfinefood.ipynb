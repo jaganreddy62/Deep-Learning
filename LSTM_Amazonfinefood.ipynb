{
 "cells": [
  {
   "cell_type": "markdown",
   "metadata": {
    "colab": {
     "base_uri": "https://localhost:8080/",
     "height": 689
    },
    "colab_type": "code",
    "executionInfo": {
     "elapsed": 3045,
     "status": "ok",
     "timestamp": 1547994863189,
     "user": {
      "displayName": "Jagan Reddy",
      "photoUrl": "https://lh6.googleusercontent.com/-0OMRpgAMIpI/AAAAAAAAAAI/AAAAAAAAAXU/BmpQ6N8mdxc/s64/photo.jpg",
      "userId": "00769824995077261950"
     },
     "user_tz": -330
    },
    "id": "H63Yk-Cb8U9f",
    "outputId": "91405375-82b3-4832-b877-d4c33ba96550"
   },
   "source": [
    "# LSTM on Amazon Fine Food Reviews"
   ]
  },
  {
   "cell_type": "code",
   "execution_count": 5,
   "metadata": {
    "colab": {
     "base_uri": "https://localhost:8080/",
     "height": 34
    },
    "colab_type": "code",
    "executionInfo": {
     "elapsed": 3744,
     "status": "ok",
     "timestamp": 1547994872614,
     "user": {
      "displayName": "Jagan Reddy",
      "photoUrl": "https://lh6.googleusercontent.com/-0OMRpgAMIpI/AAAAAAAAAAI/AAAAAAAAAXU/BmpQ6N8mdxc/s64/photo.jpg",
      "userId": "00769824995077261950"
     },
     "user_tz": -330
    },
    "id": "uDKNd1OM9gid",
    "outputId": "24100506-2148-4ea0-a131-e73566cc9d2d"
   },
   "outputs": [
    {
     "name": "stderr",
     "output_type": "stream",
     "text": [
      "Using TensorFlow backend.\n"
     ]
    }
   ],
   "source": [
    "import sqlite3\n",
    "\n",
    "import gensim\n",
    "%matplotlib inline\n",
    "import pandas as pd\n",
    "import numpy as np\n",
    "import sqlite3\n",
    "import re\n",
    "import nltk\n",
    "import matplotlib.pyplot as plt\n",
    "from  nltk.corpus import stopwords\n",
    "from nltk.stem import SnowballStemmer\n",
    "import seaborn as sn\n",
    "from sklearn.feature_extraction.text import TfidfTransformer\n",
    "from sklearn.feature_extraction.text import TfidfVectorizer\n",
    "from sklearn.model_selection import train_test_split\n",
    "from sklearn.feature_extraction.text import CountVectorizer\n",
    "from sklearn.neighbors import KNeighborsClassifier\n",
    "from sklearn import preprocessing\n",
    "from sklearn.metrics import accuracy_score,f1_score,log_loss\n",
    "import warnings\n",
    "warnings.filterwarnings('ignore')\n",
    "# LSTM for sequence classification in the IMDB dataset\n",
    "import numpy\n",
    "from keras.datasets import imdb\n",
    "from keras.models import Sequential\n",
    "from keras.layers import Dense\n",
    "from keras.layers import LSTM\n",
    "from keras.layers.embeddings import Embedding\n",
    "from keras.preprocessing import sequence\n",
    "# fix random seed for reproducibility\n",
    "numpy.random.seed(7)"
   ]
  },
  {
   "cell_type": "code",
   "execution_count": 6,
   "metadata": {
    "colab": {
     "base_uri": "https://localhost:8080/",
     "height": 652
    },
    "colab_type": "code",
    "executionInfo": {
     "elapsed": 8143,
     "status": "ok",
     "timestamp": 1547994883564,
     "user": {
      "displayName": "Jagan Reddy",
      "photoUrl": "https://lh6.googleusercontent.com/-0OMRpgAMIpI/AAAAAAAAAAI/AAAAAAAAAXU/BmpQ6N8mdxc/s64/photo.jpg",
      "userId": "00769824995077261950"
     },
     "user_tz": -330
    },
    "id": "xz5ltrio9uiG",
    "outputId": "0115e22b-b0e9-4125-9f1a-adebae819053"
   },
   "outputs": [
    {
     "data": {
      "text/html": [
       "<div>\n",
       "<style scoped>\n",
       "    .dataframe tbody tr th:only-of-type {\n",
       "        vertical-align: middle;\n",
       "    }\n",
       "\n",
       "    .dataframe tbody tr th {\n",
       "        vertical-align: top;\n",
       "    }\n",
       "\n",
       "    .dataframe thead th {\n",
       "        text-align: right;\n",
       "    }\n",
       "</style>\n",
       "<table border=\"1\" class=\"dataframe\">\n",
       "  <thead>\n",
       "    <tr style=\"text-align: right;\">\n",
       "      <th></th>\n",
       "      <th>Id</th>\n",
       "      <th>ProductId</th>\n",
       "      <th>UserId</th>\n",
       "      <th>ProfileName</th>\n",
       "      <th>HelpfulnessNumerator</th>\n",
       "      <th>HelpfulnessDenominator</th>\n",
       "      <th>Score</th>\n",
       "      <th>Time</th>\n",
       "      <th>Summary</th>\n",
       "      <th>Text</th>\n",
       "    </tr>\n",
       "  </thead>\n",
       "  <tbody>\n",
       "    <tr>\n",
       "      <th>0</th>\n",
       "      <td>1</td>\n",
       "      <td>B001E4KFG0</td>\n",
       "      <td>A3SGXH7AUHU8GW</td>\n",
       "      <td>delmartian</td>\n",
       "      <td>1</td>\n",
       "      <td>1</td>\n",
       "      <td>5</td>\n",
       "      <td>1303862400</td>\n",
       "      <td>Good Quality Dog Food</td>\n",
       "      <td>I have bought several of the Vitality canned d...</td>\n",
       "    </tr>\n",
       "    <tr>\n",
       "      <th>1</th>\n",
       "      <td>2</td>\n",
       "      <td>B00813GRG4</td>\n",
       "      <td>A1D87F6ZCVE5NK</td>\n",
       "      <td>dll pa</td>\n",
       "      <td>0</td>\n",
       "      <td>0</td>\n",
       "      <td>1</td>\n",
       "      <td>1346976000</td>\n",
       "      <td>Not as Advertised</td>\n",
       "      <td>Product arrived labeled as Jumbo Salted Peanut...</td>\n",
       "    </tr>\n",
       "    <tr>\n",
       "      <th>2</th>\n",
       "      <td>3</td>\n",
       "      <td>B000LQOCH0</td>\n",
       "      <td>ABXLMWJIXXAIN</td>\n",
       "      <td>Natalia Corres \"Natalia Corres\"</td>\n",
       "      <td>1</td>\n",
       "      <td>1</td>\n",
       "      <td>4</td>\n",
       "      <td>1219017600</td>\n",
       "      <td>\"Delight\" says it all</td>\n",
       "      <td>This is a confection that has been around a fe...</td>\n",
       "    </tr>\n",
       "    <tr>\n",
       "      <th>3</th>\n",
       "      <td>4</td>\n",
       "      <td>B000UA0QIQ</td>\n",
       "      <td>A395BORC6FGVXV</td>\n",
       "      <td>Karl</td>\n",
       "      <td>3</td>\n",
       "      <td>3</td>\n",
       "      <td>2</td>\n",
       "      <td>1307923200</td>\n",
       "      <td>Cough Medicine</td>\n",
       "      <td>If you are looking for the secret ingredient i...</td>\n",
       "    </tr>\n",
       "    <tr>\n",
       "      <th>4</th>\n",
       "      <td>5</td>\n",
       "      <td>B006K2ZZ7K</td>\n",
       "      <td>A1UQRSCLF8GW1T</td>\n",
       "      <td>Michael D. Bigham \"M. Wassir\"</td>\n",
       "      <td>0</td>\n",
       "      <td>0</td>\n",
       "      <td>5</td>\n",
       "      <td>1350777600</td>\n",
       "      <td>Great taffy</td>\n",
       "      <td>Great taffy at a great price.  There was a wid...</td>\n",
       "    </tr>\n",
       "  </tbody>\n",
       "</table>\n",
       "</div>"
      ],
      "text/plain": [
       "   Id   ProductId          UserId                      ProfileName  \\\n",
       "0   1  B001E4KFG0  A3SGXH7AUHU8GW                       delmartian   \n",
       "1   2  B00813GRG4  A1D87F6ZCVE5NK                           dll pa   \n",
       "2   3  B000LQOCH0   ABXLMWJIXXAIN  Natalia Corres \"Natalia Corres\"   \n",
       "3   4  B000UA0QIQ  A395BORC6FGVXV                             Karl   \n",
       "4   5  B006K2ZZ7K  A1UQRSCLF8GW1T    Michael D. Bigham \"M. Wassir\"   \n",
       "\n",
       "   HelpfulnessNumerator  HelpfulnessDenominator  Score        Time  \\\n",
       "0                     1                       1      5  1303862400   \n",
       "1                     0                       0      1  1346976000   \n",
       "2                     1                       1      4  1219017600   \n",
       "3                     3                       3      2  1307923200   \n",
       "4                     0                       0      5  1350777600   \n",
       "\n",
       "                 Summary                                               Text  \n",
       "0  Good Quality Dog Food  I have bought several of the Vitality canned d...  \n",
       "1      Not as Advertised  Product arrived labeled as Jumbo Salted Peanut...  \n",
       "2  \"Delight\" says it all  This is a confection that has been around a fe...  \n",
       "3         Cough Medicine  If you are looking for the secret ingredient i...  \n",
       "4            Great taffy  Great taffy at a great price.  There was a wid...  "
      ]
     },
     "execution_count": 6,
     "metadata": {
      "tags": []
     },
     "output_type": "execute_result"
    }
   ],
   "source": [
    "#loading data\n",
    "con = sqlite3.connect(r'/content/drive/My Drive/database.sqlite')\n",
    "data = pd.read_sql_query('select * from REVIEWS where Score!=3',con)\n",
    "data.head()"
   ]
  },
  {
   "cell_type": "code",
   "execution_count": 7,
   "metadata": {
    "colab": {
     "base_uri": "https://localhost:8080/",
     "height": 118
    },
    "colab_type": "code",
    "executionInfo": {
     "elapsed": 874,
     "status": "ok",
     "timestamp": 1547994889328,
     "user": {
      "displayName": "Jagan Reddy",
      "photoUrl": "https://lh6.googleusercontent.com/-0OMRpgAMIpI/AAAAAAAAAAI/AAAAAAAAAXU/BmpQ6N8mdxc/s64/photo.jpg",
      "userId": "00769824995077261950"
     },
     "user_tz": -330
    },
    "id": "uNGJDO8O-E0l",
    "outputId": "2cec4195-fc64-45c0-9a63-c25dac362a9a"
   },
   "outputs": [
    {
     "data": {
      "text/plain": [
       "0    1\n",
       "1    0\n",
       "2    1\n",
       "3    0\n",
       "4    1\n",
       "Name: Score, dtype: int64"
      ]
     },
     "execution_count": 7,
     "metadata": {
      "tags": []
     },
     "output_type": "execute_result"
    }
   ],
   "source": [
    "def change_labels(x):\n",
    "    if x > 3:\n",
    "        return 1\n",
    "    return 0\n",
    "temp_score = data['Score']\n",
    "temp_score = temp_score.map(change_labels)\n",
    "data['Score'] =  temp_score\n",
    "data['Score'].head()"
   ]
  },
  {
   "cell_type": "code",
   "execution_count": 8,
   "metadata": {
    "colab": {
     "base_uri": "https://localhost:8080/",
     "height": 50
    },
    "colab_type": "code",
    "executionInfo": {
     "elapsed": 3167,
     "status": "ok",
     "timestamp": 1547994897149,
     "user": {
      "displayName": "Jagan Reddy",
      "photoUrl": "https://lh6.googleusercontent.com/-0OMRpgAMIpI/AAAAAAAAAAI/AAAAAAAAAXU/BmpQ6N8mdxc/s64/photo.jpg",
      "userId": "00769824995077261950"
     },
     "user_tz": -330
    },
    "id": "0V1aleEb-Lct",
    "outputId": "29392971-0e54-493b-fab3-b57ae1fc611d"
   },
   "outputs": [
    {
     "name": "stdout",
     "output_type": "stream",
     "text": [
      "Number of data points before removing duplicates 525814\n",
      "Number of data points after removing duplicates 364173\n"
     ]
    }
   ],
   "source": [
    "#data cleanising\n",
    "print('Number of data points before removing duplicates',data.shape[0])\n",
    "sorted_data=data.sort_values('ProductId', axis=0, ascending=True, inplace=False, kind='quicksort', na_position='last')\n",
    "clean_data=sorted_data.drop_duplicates(subset={\"UserId\",\"ProfileName\",\"Time\",\"Text\"}, keep='first', inplace=False)\n",
    "print('Number of data points after removing duplicates',clean_data.shape[0])"
   ]
  },
  {
   "cell_type": "code",
   "execution_count": 9,
   "metadata": {
    "colab": {
     "base_uri": "https://localhost:8080/",
     "height": 34
    },
    "colab_type": "code",
    "executionInfo": {
     "elapsed": 908,
     "status": "ok",
     "timestamp": 1547994901558,
     "user": {
      "displayName": "Jagan Reddy",
      "photoUrl": "https://lh6.googleusercontent.com/-0OMRpgAMIpI/AAAAAAAAAAI/AAAAAAAAAXU/BmpQ6N8mdxc/s64/photo.jpg",
      "userId": "00769824995077261950"
     },
     "user_tz": -330
    },
    "id": "NdctBoOT-QE3",
    "outputId": "4ee472f9-e760-46eb-cad6-9ca85d0e62c8"
   },
   "outputs": [
    {
     "name": "stdout",
     "output_type": "stream",
     "text": [
      "Now the Number of data points are 364171\n"
     ]
    }
   ],
   "source": [
    "clean_data=clean_data[clean_data['HelpfulnessNumerator']<=clean_data['HelpfulnessDenominator']]\n",
    "print('Now the Number of data points are',clean_data.shape[0])"
   ]
  },
  {
   "cell_type": "code",
   "execution_count": 0,
   "metadata": {
    "colab": {},
    "colab_type": "code",
    "id": "Y5qsZYtG-UaC"
   },
   "outputs": [],
   "source": [
    "#to remove HTML Tags\n",
    "def clean_html(x):\n",
    "    cleanr = re.compile('<.*?>')\n",
    "    cleantext = re.sub(cleanr, ' ', x)\n",
    "    return cleantext\n",
    "#  to remove unwanted charecteres like '!',',' etc.\n",
    "\n",
    "def cleansen(x):\n",
    "    cleaned = re.sub(r'[?|!|\\'|\"|#]',r'',x)\n",
    "    cleaned = re.sub(r'[.|,|)|(|\\|/]',r' ',cleaned)\n",
    "    return  cleaned\n",
    "stemmer = nltk.stem.SnowballStemmer('english')"
   ]
  },
  {
   "cell_type": "code",
   "execution_count": 11,
   "metadata": {
    "colab": {
     "base_uri": "https://localhost:8080/",
     "height": 34
    },
    "colab_type": "code",
    "executionInfo": {
     "elapsed": 474645,
     "status": "ok",
     "timestamp": 1547995385194,
     "user": {
      "displayName": "Jagan Reddy",
      "photoUrl": "https://lh6.googleusercontent.com/-0OMRpgAMIpI/AAAAAAAAAAI/AAAAAAAAAXU/BmpQ6N8mdxc/s64/photo.jpg",
      "userId": "00769824995077261950"
     },
     "user_tz": -330
    },
    "id": "hM4F1x6U-YWv",
    "outputId": "50782415-57dd-4b34-d7ad-3ffc435dbba4"
   },
   "outputs": [
    {
     "name": "stdout",
     "output_type": "stream",
     "text": [
      "Total time taken to clean the reviews 0:07:53.717293\n"
     ]
    }
   ],
   "source": [
    "import datetime\n",
    "\n",
    "str1=' '\n",
    "final_string=[]\n",
    "\n",
    "s=''\n",
    "start_time = datetime.datetime.now()\n",
    "for sent in clean_data['Text'].values:\n",
    "    filtered_sentence=[]\n",
    "    sent=clean_html(sent) # remove HTMl tags\n",
    "    for w in sent.split():\n",
    "        for cleaned_words in cleansen(w).split():\n",
    "            if((cleaned_words.isalpha()) & (len(cleaned_words)>2)):    \n",
    "               # if(cleaned_words.lower() not in stop_words):\n",
    "                    s=(stemmer.stem(cleaned_words.lower()))\n",
    "                    filtered_sentence.append(s)\n",
    "               # else:\n",
    "                #    continue\n",
    "            else:\n",
    "                continue \n",
    "    #print(filtered_sentence)\n",
    "    str1 = \" \".join(filtered_sentence) #final string of cleaned words\n",
    "    #print(\"***********************************************************************\")\n",
    "    \n",
    "    final_string.append(str1)\n",
    "clean_data['CleanedText']=final_string\n",
    "print('Total time taken to clean the reviews',datetime.datetime.now()-start_time)"
   ]
  },
  {
   "cell_type": "code",
   "execution_count": 0,
   "metadata": {
    "colab": {},
    "colab_type": "code",
    "id": "_mV37IzMCZWb"
   },
   "outputs": [],
   "source": [
    "clean_data=clean_data.head(100000)"
   ]
  },
  {
   "cell_type": "code",
   "execution_count": 0,
   "metadata": {
    "colab": {},
    "colab_type": "code",
    "id": "Fo1A1tD1CeGT"
   },
   "outputs": [],
   "source": [
    "words = pd.DataFrame()\n",
    "vocaby = pd.DataFrame()"
   ]
  },
  {
   "cell_type": "code",
   "execution_count": 0,
   "metadata": {
    "colab": {},
    "colab_type": "code",
    "id": "7DR3DuhVEQ_W"
   },
   "outputs": [],
   "source": [
    "#replacing words with frequency of thier occurances\n",
    "vocab_words = []\n",
    "for sent in clean_data['CleanedText'].values:\n",
    "  for words in sent.split():\n",
    "    vocab_words.append(words)\n"
   ]
  },
  {
   "cell_type": "code",
   "execution_count": 0,
   "metadata": {
    "colab": {},
    "colab_type": "code",
    "id": "hBdeKKkmqr_-"
   },
   "outputs": [],
   "source": [
    "vocab_length = np.array(vocab_words).shape[0]"
   ]
  },
  {
   "cell_type": "code",
   "execution_count": 0,
   "metadata": {
    "colab": {},
    "colab_type": "code",
    "id": "hJtzc7WJKhC2"
   },
   "outputs": [],
   "source": [
    "vocaby['words']=vocab_words"
   ]
  },
  {
   "cell_type": "code",
   "execution_count": 17,
   "metadata": {
    "colab": {
     "base_uri": "https://localhost:8080/",
     "height": 195
    },
    "colab_type": "code",
    "executionInfo": {
     "elapsed": 954,
     "status": "ok",
     "timestamp": 1547995527476,
     "user": {
      "displayName": "Jagan Reddy",
      "photoUrl": "https://lh6.googleusercontent.com/-0OMRpgAMIpI/AAAAAAAAAAI/AAAAAAAAAXU/BmpQ6N8mdxc/s64/photo.jpg",
      "userId": "00769824995077261950"
     },
     "user_tz": -330
    },
    "id": "6ZImxF-lLgdl",
    "outputId": "8a0d4a2a-f796-4df6-a2ff-5fb9d0e2066e"
   },
   "outputs": [
    {
     "data": {
      "text/html": [
       "<div>\n",
       "<style scoped>\n",
       "    .dataframe tbody tr th:only-of-type {\n",
       "        vertical-align: middle;\n",
       "    }\n",
       "\n",
       "    .dataframe tbody tr th {\n",
       "        vertical-align: top;\n",
       "    }\n",
       "\n",
       "    .dataframe thead th {\n",
       "        text-align: right;\n",
       "    }\n",
       "</style>\n",
       "<table border=\"1\" class=\"dataframe\">\n",
       "  <thead>\n",
       "    <tr style=\"text-align: right;\">\n",
       "      <th></th>\n",
       "      <th>words</th>\n",
       "    </tr>\n",
       "  </thead>\n",
       "  <tbody>\n",
       "    <tr>\n",
       "      <th>0</th>\n",
       "      <td>this</td>\n",
       "    </tr>\n",
       "    <tr>\n",
       "      <th>1</th>\n",
       "      <td>witti</td>\n",
       "    </tr>\n",
       "    <tr>\n",
       "      <th>2</th>\n",
       "      <td>littl</td>\n",
       "    </tr>\n",
       "    <tr>\n",
       "      <th>3</th>\n",
       "      <td>book</td>\n",
       "    </tr>\n",
       "    <tr>\n",
       "      <th>4</th>\n",
       "      <td>make</td>\n",
       "    </tr>\n",
       "  </tbody>\n",
       "</table>\n",
       "</div>"
      ],
      "text/plain": [
       "   words\n",
       "0   this\n",
       "1  witti\n",
       "2  littl\n",
       "3   book\n",
       "4   make"
      ]
     },
     "execution_count": 17,
     "metadata": {
      "tags": []
     },
     "output_type": "execute_result"
    }
   ],
   "source": [
    "vocaby.head()"
   ]
  },
  {
   "cell_type": "code",
   "execution_count": 0,
   "metadata": {
    "colab": {},
    "colab_type": "code",
    "id": "lAlfjtHQLsWu"
   },
   "outputs": [],
   "source": [
    "top_words=5000\n",
    "\n",
    "Words=vocaby['words'].value_counts().head(top_words)#reutrns a dictionary wth key as word and value as count"
   ]
  },
  {
   "cell_type": "code",
   "execution_count": 19,
   "metadata": {
    "colab": {
     "base_uri": "https://localhost:8080/",
     "height": 1075
    },
    "colab_type": "code",
    "executionInfo": {
     "elapsed": 1261,
     "status": "ok",
     "timestamp": 1547995541246,
     "user": {
      "displayName": "Jagan Reddy",
      "photoUrl": "https://lh6.googleusercontent.com/-0OMRpgAMIpI/AAAAAAAAAAI/AAAAAAAAAXU/BmpQ6N8mdxc/s64/photo.jpg",
      "userId": "00769824995077261950"
     },
     "user_tz": -330
    },
    "id": "2KOCptLljg7Q",
    "outputId": "61c75313-031e-47f7-d6e8-b1d029244fd8"
   },
   "outputs": [
    {
     "name": "stdout",
     "output_type": "stream",
     "text": [
      "5000\n"
     ]
    },
    {
     "data": {
      "text/plain": [
       "the            303098\n",
       "and            218562\n",
       "this           111739\n",
       "for             92786\n",
       "that            69652\n",
       "have            61774\n",
       "with            60071\n",
       "you             57547\n",
       "but             55865\n",
       "are             53597\n",
       "was             50386\n",
       "not             50161\n",
       "they            48631\n",
       "like            41457\n",
       "these           39569\n",
       "tast            39441\n",
       "them            37411\n",
       "tea             35349\n",
       "good            33012\n",
       "use             32383\n",
       "love            31112\n",
       "product         30953\n",
       "one             30654\n",
       "flavor          30266\n",
       "great           30043\n",
       "veri            28606\n",
       "it              28270\n",
       "just            27810\n",
       "can             27569\n",
       "tri             26525\n",
       "                ...  \n",
       "gingeri            36\n",
       "brace              36\n",
       "bend               36\n",
       "smother            36\n",
       "uti                36\n",
       "perish             36\n",
       "unclear            36\n",
       "huh                36\n",
       "mileag             36\n",
       "salmonella         36\n",
       "patio              36\n",
       "artisan            36\n",
       "limp               36\n",
       "structur           36\n",
       "nap                36\n",
       "sunni              36\n",
       "peruvian           36\n",
       "port               36\n",
       "boysenberri        36\n",
       "quirki             36\n",
       "southwest          36\n",
       "physician          36\n",
       "slipperi           35\n",
       "cooper             35\n",
       "pho                35\n",
       "ravioli            35\n",
       "boson              35\n",
       "strengthen         35\n",
       "adher              35\n",
       "lasagn             35\n",
       "Name: words, Length: 5000, dtype: int64"
      ]
     },
     "execution_count": 19,
     "metadata": {
      "tags": []
     },
     "output_type": "execute_result"
    }
   ],
   "source": [
    "print(len(Words))\n",
    "Words"
   ]
  },
  {
   "cell_type": "code",
   "execution_count": 0,
   "metadata": {
    "colab": {},
    "colab_type": "code",
    "id": "DYEKGzzkpKoE"
   },
   "outputs": [],
   "source": [
    "#fuction to replace words with counts \n",
    "def text_count(row):\n",
    "    count = []\n",
    "    for w in row['CleanedText'].split():\n",
    "        if w in Words:\n",
    "            count.append(Words[w]) \n",
    "        else:\n",
    "            count.append(0)            \n",
    "    return count\n",
    "\n",
    " \n",
    "\n",
    "    \n",
    " "
   ]
  },
  {
   "cell_type": "code",
   "execution_count": 0,
   "metadata": {
    "colab": {},
    "colab_type": "code",
    "id": "iKw5nraMCoQ1"
   },
   "outputs": [],
   "source": [
    "clean_data['countvectorize'] = clean_data.apply(lambda row: text_count(row),axis=1)"
   ]
  },
  {
   "cell_type": "code",
   "execution_count": 21,
   "metadata": {
    "colab": {
     "base_uri": "https://localhost:8080/",
     "height": 1058
    },
    "colab_type": "code",
    "executionInfo": {
     "elapsed": 921,
     "status": "ok",
     "timestamp": 1547961010283,
     "user": {
      "displayName": "Jagan Reddy",
      "photoUrl": "https://lh6.googleusercontent.com/-0OMRpgAMIpI/AAAAAAAAAAI/AAAAAAAAAXU/BmpQ6N8mdxc/s64/photo.jpg",
      "userId": "00769824995077261950"
     },
     "user_tz": -330
    },
    "id": "45tgCdlYtjIT",
    "outputId": "30cfbce3-c8b1-4247-b6d4-32e8ed031e9d"
   },
   "outputs": [
    {
     "data": {
      "text/plain": [
       "138706    [111739, 0, 13380, 688, 24074, 2237, 198, 122,...\n",
       "138688    [776, 3246, 39569, 0, 688, 218562, 1327, 30309...\n",
       "138689    [111739, 1143, 8356, 92786, 884, 959, 9892, 53...\n",
       "138690    [111739, 30043, 13380, 688, 3246, 21441, 7107,...\n",
       "138691    [111739, 688, 0, 16507, 303098, 5326, 303098, ...\n",
       "138693    [122, 0, 688, 69652, 935, 303098, 0, 1122, 120...\n",
       "138694    [2008, 249, 2681, 2485, 4419, 11450, 3246, 223...\n",
       "138695    [1605, 111739, 688, 25097, 336, 218562, 6725, ...\n",
       "138696    [28270, 30043, 688, 60071, 284, 78, 1189, 463,...\n",
       "138697    [111739, 688, 4387, 7783, 218562, 50386, 3246,...\n",
       "138687    [22615, 303098, 617, 753, 307, 218562, 81, 142...\n",
       "138698    [303098, 5492, 89, 252, 3451, 303098, 689, 798...\n",
       "138700    [30043, 688, 6646, 1111, 4053, 988, 3585, 1812...\n",
       "138701    [12903, 6555, 31112, 4631, 5229, 218562, 6490,...\n",
       "138702    [111739, 688, 50386, 8879, 683, 3422, 92786, 1...\n",
       "138703    [11721, 5133, 1854, 788, 111739, 688, 3528, 25...\n",
       "138704    [111739, 688, 4856, 245, 157, 988, 80, 25730, ...\n",
       "138705    [442, 713, 935, 303098, 32383, 4631, 5229, 600...\n",
       "138707    [1854, 31112, 25730, 303098, 15418, 0, 688, 10...\n",
       "138708    [111739, 30654, 303098, 14212, 884, 688, 6406,...\n",
       "138709    [127, 1402, 122, 202, 413, 25730, 581, 0, 0, 3...\n",
       "138699    [463, 884, 688, 6952, 1501, 3246, 23141, 50386...\n",
       "138686    [28606, 317, 0, 218562, 0, 303098, 78, 53597, ...\n",
       "138692    [4631, 5229, 60071, 6490, 0, 0, 0, 0, 0, 0, 76...\n",
       "138680    [111739, 6651, 13380, 688, 31112, 11721, 2936,...\n",
       "138677    [25730, 884, 31112, 111739, 688, 9711, 0, 6725...\n",
       "138678    [30654, 0, 417, 111739, 688, 1095, 7940, 3246,...\n",
       "138685    [111739, 122, 1854, 218562, 7783, 688, 3246, 1...\n",
       "138684    [111739, 89, 1527, 18386, 3153, 8012, 13258, 5...\n",
       "138679    [9004, 1185, 3289, 303098, 0, 0, 310, 30654, 3...\n",
       "                                ...                        \n",
       "124657    [111739, 35349, 21441, 28606, 568, 692, 30266,...\n",
       "124656    [1812, 3570, 111739, 50161, 2170, 330, 692, 30...\n",
       "124655    [27810, 9134, 111739, 692, 35349, 92786, 30309...\n",
       "124654    [39441, 28606, 1269, 55865, 13482, 681, 12544,...\n",
       "124653    [688, 1405, 4293, 111739, 35349, 252, 303098, ...\n",
       "124651    [6646, 1069, 1408, 303098, 692, 30266, 218562,...\n",
       "124650    [7107, 3115, 1315, 692, 30266, 6068, 50161, 46...\n",
       "204536    [0, 5870, 1916, 1521, 5305, 35349, 1584, 21856...\n",
       "398831    [8144, 35349, 218562, 5870, 155, 16078, 21441,...\n",
       "398830    [12903, 8072, 303098, 358, 111739, 5305, 35349...\n",
       "398829    [7393, 111739, 2056, 9799, 2499, 218562, 24074...\n",
       "277086    [111739, 8144, 35349, 69652, 50161, 1744, 9726...\n",
       "277094    [27810, 9134, 12544, 111739, 35349, 279, 21856...\n",
       "277093    [31112, 111739, 35349, 28270, 303, 1059, 6392,...\n",
       "277092    [92786, 5626, 7368, 218562, 1266, 26525, 11173...\n",
       "277091    [5251, 8303, 3926, 7501, 2641, 1584, 5305, 353...\n",
       "277088    [111739, 35349, 627, 32383, 24074, 3201, 35349...\n",
       "277089    [3554, 778, 0, 35349, 6621, 1454, 111739, 816,...\n",
       "277087    [4073, 0, 1911, 35349, 5251, 61774, 14525, 191...\n",
       "277090    [1055, 0, 303098, 14212, 9225, 35349, 303098, ...\n",
       "242       [15418, 8072, 111739, 30953, 21420, 2888, 5895...\n",
       "252       [31112, 111739, 9077, 39441, 14525, 11305, 218...\n",
       "251       [15418, 31112, 111739, 9077, 218562, 28270, 14...\n",
       "250       [111739, 9077, 28606, 33012, 32383, 111739, 18...\n",
       "249       [16078, 32383, 1159, 9077, 6367, 5674, 13380, ...\n",
       "248       [111739, 8144, 9077, 21441, 3946, 3115, 2150, ...\n",
       "247       [28270, 27810, 9077, 303098, 1159, 28270, 3026...\n",
       "246       [32383, 17946, 111739, 9077, 92786, 11721, 501...\n",
       "245       [30953, 1947, 691, 12936, 3454, 2681, 3173, 30...\n",
       "244       [31112, 111739, 9077, 14612, 22615, 0, 9077, 2...\n",
       "Name: countvectorize, Length: 100000, dtype: object"
      ]
     },
     "execution_count": 21,
     "metadata": {
      "tags": []
     },
     "output_type": "execute_result"
    }
   ],
   "source": [
    "clean_data['countvectorize']"
   ]
  },
  {
   "cell_type": "code",
   "execution_count": 0,
   "metadata": {
    "colab": {},
    "colab_type": "code",
    "id": "bhtRKk8z1ZJ-"
   },
   "outputs": [],
   "source": [
    "# Split data into train and test\n",
    "x_train, x_test, y_train, y_test = train_test_split(clean_data['countvectorize'].values,\n",
    "                                                            clean_data['Score'],\n",
    "                                                            test_size=0.3,\n",
    "                                                            shuffle=False,\n",
    "                                                            random_state=0)"
   ]
  },
  {
   "cell_type": "code",
   "execution_count": 23,
   "metadata": {
    "colab": {
     "base_uri": "https://localhost:8080/",
     "height": 138
    },
    "colab_type": "code",
    "executionInfo": {
     "elapsed": 876,
     "status": "ok",
     "timestamp": 1547995750920,
     "user": {
      "displayName": "Jagan Reddy",
      "photoUrl": "https://lh6.googleusercontent.com/-0OMRpgAMIpI/AAAAAAAAAAI/AAAAAAAAAXU/BmpQ6N8mdxc/s64/photo.jpg",
      "userId": "00769824995077261950"
     },
     "user_tz": -330
    },
    "id": "WarpwzEh2IZG",
    "outputId": "11351687-c000-4aa4-adb7-27e9f0a66423"
   },
   "outputs": [
    {
     "name": "stdout",
     "output_type": "stream",
     "text": [
      "Total number words present in first review:\n",
      " 40\n",
      "\n",
      "List of word indexes present in first review:\n",
      " [776, 3246, 39569, 0, 688, 218562, 1327, 303098, 15418, 0, 617, 69652, 117, 37411, 218562, 31112, 37411, 2237, 31112, 37411, 14611, 4754, 1322, 303098, 5895, 1246, 1989, 303098, 0, 5674, 3386, 68, 218562, 6852, 7883, 3028, 7393, 303098, 253, 4147]\n",
      "\n"
     ]
    }
   ],
   "source": [
    "print(\"Total number words present in first review:\\n\",len(x_train[1]))\n",
    "print()\n",
    "print(\"List of word indexes present in first review:\\n\", x_train[1])\n",
    "print()"
   ]
  },
  {
   "cell_type": "code",
   "execution_count": 24,
   "metadata": {
    "colab": {
     "base_uri": "https://localhost:8080/",
     "height": 941
    },
    "colab_type": "code",
    "executionInfo": {
     "elapsed": 2186,
     "status": "ok",
     "timestamp": 1547995759147,
     "user": {
      "displayName": "Jagan Reddy",
      "photoUrl": "https://lh6.googleusercontent.com/-0OMRpgAMIpI/AAAAAAAAAAI/AAAAAAAAAXU/BmpQ6N8mdxc/s64/photo.jpg",
      "userId": "00769824995077261950"
     },
     "user_tz": -330
    },
    "id": "pd2Fhi-7t831",
    "outputId": "0c89798e-5731-4149-ec99-17c580b1853e"
   },
   "outputs": [
    {
     "name": "stdout",
     "output_type": "stream",
     "text": [
      "Total number words present in first review after padding:\n",
      " 500\n",
      "\n",
      "List of word indexes present in first review padding:\n",
      " [     0      0      0      0      0      0      0      0      0      0\n",
      "      0      0      0      0      0      0      0      0      0      0\n",
      "      0      0      0      0      0      0      0      0      0      0\n",
      "      0      0      0      0      0      0      0      0      0      0\n",
      "      0      0      0      0      0      0      0      0      0      0\n",
      "      0      0      0      0      0      0      0      0      0      0\n",
      "      0      0      0      0      0      0      0      0      0      0\n",
      "      0      0      0      0      0      0      0      0      0      0\n",
      "      0      0      0      0      0      0      0      0      0      0\n",
      "      0      0      0      0      0      0      0      0      0      0\n",
      "      0      0      0      0      0      0      0      0      0      0\n",
      "      0      0      0      0      0      0      0      0      0      0\n",
      "      0      0      0      0      0      0      0      0      0      0\n",
      "      0      0      0      0      0      0      0      0      0      0\n",
      "      0      0      0      0      0      0      0      0      0      0\n",
      "      0      0      0      0      0      0      0      0      0      0\n",
      "      0      0      0      0      0      0      0      0      0      0\n",
      "      0      0      0      0      0      0      0      0      0      0\n",
      "      0      0      0      0      0      0      0      0      0      0\n",
      "      0      0      0      0      0      0      0      0      0      0\n",
      "      0      0      0      0      0      0      0      0      0      0\n",
      "      0      0      0      0      0      0      0      0      0      0\n",
      "      0      0      0      0      0      0      0      0      0      0\n",
      "      0      0      0      0      0      0      0      0      0      0\n",
      "      0      0      0      0      0      0      0      0      0      0\n",
      "      0      0      0      0      0      0      0      0      0      0\n",
      "      0      0      0      0      0      0      0      0      0      0\n",
      "      0      0      0      0      0      0      0      0      0      0\n",
      "      0      0      0      0      0      0      0      0      0      0\n",
      "      0      0      0      0      0      0      0      0      0      0\n",
      "      0      0      0      0      0      0      0      0      0      0\n",
      "      0      0      0      0      0      0      0      0      0      0\n",
      "      0      0      0      0      0      0      0      0      0      0\n",
      "      0      0      0      0      0      0      0      0      0      0\n",
      "      0      0      0      0      0      0      0      0      0      0\n",
      "      0      0      0      0      0      0      0      0      0      0\n",
      "      0      0      0      0      0      0      0      0      0      0\n",
      "      0      0      0      0      0      0      0      0      0      0\n",
      "      0      0      0      0      0      0      0      0      0      0\n",
      "      0      0      0      0      0      0      0      0      0      0\n",
      "      0      0      0      0      0      0      0      0      0      0\n",
      "      0      0      0      0      0      0      0      0      0      0\n",
      "      0      0      0      0      0      0      0      0      0      0\n",
      "      0      0      0      0      0      0      0      0      0      0\n",
      "      0      0      0      0      0      0      0      0      0      0\n",
      "      0      0      0      0      0      0      0      0      0      0\n",
      "    776   3246  39569      0    688 218562   1327 303098  15418      0\n",
      "    617  69652    117  37411 218562  31112  37411   2237  31112  37411\n",
      "  14611   4754   1322 303098   5895   1246   1989 303098      0   5674\n",
      "   3386     68 218562   6852   7883   3028   7393 303098    253   4147]\n",
      "\n"
     ]
    }
   ],
   "source": [
    "max_review_length = 500\n",
    "x_train = sequence.pad_sequences(x_train, maxlen=max_review_length)\n",
    "x_test = sequence.pad_sequences(x_test, maxlen=max_review_length)\n",
    "\n",
    "print(\"Total number words present in first review after padding:\\n\",len(x_train[1]))\n",
    "print()\n",
    "print(\"List of word indexes present in first review padding:\\n\", x_train[1])\n",
    "print()"
   ]
  },
  {
   "cell_type": "code",
   "execution_count": 0,
   "metadata": {
    "colab": {},
    "colab_type": "code",
    "id": "yXmzP7ikxgfm"
   },
   "outputs": [],
   "source": [
    "from keras.layers import BatchNormalization, Dense, Dropout, Flatten, LSTM\n",
    "from keras.layers.embeddings import Embedding\n",
    "from keras.regularizers import L1L2\n",
    "# Batch size \n",
    "batch_size = 192 \n",
    "\n",
    "# Number of time whole data is trained\n",
    "epochs = 5\n",
    "\n",
    "# Embedding vector size\n",
    "embedding_vecor_length = 32\n",
    "\n",
    "# Bias regularizer value - we will use elasticnet\n",
    "reg = L1L2(0.01, 0.01)\n",
    "\n",
    "# Plot train and cross validation loss\n",
    "def plot_train_cv_loss(trained_model, epochs, colors=['b']):\n",
    "    fig, ax = plt.subplots(1,1)    \n",
    "    ax.set_xlabel('epoch') \n",
    "    ax.set_ylabel('Categorical Crossentropy Loss')\n",
    "    x_axis_values = list(range(1,6))\n",
    "\n",
    "    validation_loss = trained_model.history['val_loss']\n",
    "    train_loss = trained_model.history['loss']   \n",
    "    \n",
    "    ax.plot(x_axis_values, validation_loss, 'b', label=\"Validation Loss\")\n",
    "    ax.plot(x_axis_values, train_loss, 'r', label=\"Train Loss\")\n",
    "    plt.legend()\n",
    "    plt.grid()\n",
    "    fig.canvas.draw()"
   ]
  },
  {
   "cell_type": "markdown",
   "metadata": {},
   "source": [
    "Model 1 with 1 Lstm layer"
   ]
  },
  {
   "cell_type": "code",
   "execution_count": 26,
   "metadata": {
    "colab": {
     "base_uri": "https://localhost:8080/",
     "height": 608
    },
    "colab_type": "code",
    "executionInfo": {
     "elapsed": 7757609,
     "status": "ok",
     "timestamp": 1548003536002,
     "user": {
      "displayName": "Jagan Reddy",
      "photoUrl": "https://lh6.googleusercontent.com/-0OMRpgAMIpI/AAAAAAAAAAI/AAAAAAAAAXU/BmpQ6N8mdxc/s64/photo.jpg",
      "userId": "00769824995077261950"
     },
     "user_tz": -330
    },
    "id": "o8BhvW_kz_Af",
    "outputId": "69b35012-ebac-4d36-d9bc-4e1d4104d2f9"
   },
   "outputs": [
    {
     "name": "stdout",
     "output_type": "stream",
     "text": [
      "Model Summary: \n",
      "\n",
      "_________________________________________________________________\n",
      "Layer (type)                 Output Shape              Param #   \n",
      "=================================================================\n",
      "embedding_1 (Embedding)      (None, 500, 32)           183078368 \n",
      "_________________________________________________________________\n",
      "batch_normalization_1 (Batch (None, 500, 32)           128       \n",
      "_________________________________________________________________\n",
      "dropout_1 (Dropout)          (None, 500, 32)           0         \n",
      "_________________________________________________________________\n",
      "lstm_1 (LSTM)                (None, 100)               53200     \n",
      "_________________________________________________________________\n",
      "dropout_2 (Dropout)          (None, 100)               0         \n",
      "_________________________________________________________________\n",
      "dense_1 (Dense)              (None, 1)                 101       \n",
      "=================================================================\n",
      "Total params: 183,131,797\n",
      "Trainable params: 183,131,733\n",
      "Non-trainable params: 64\n",
      "_________________________________________________________________\n",
      "\n",
      "\n",
      "Train on 70000 samples, validate on 30000 samples\n",
      "Epoch 1/5\n",
      "70000/70000 [==============================] - 1556s 22ms/step - loss: 0.2713 - acc: 0.8913 - val_loss: 0.2345 - val_acc: 0.8968\n",
      "Epoch 2/5\n",
      "70000/70000 [==============================] - 1536s 22ms/step - loss: 0.1969 - acc: 0.9212 - val_loss: 0.1942 - val_acc: 0.9248\n",
      "Epoch 3/5\n",
      "70000/70000 [==============================] - 1540s 22ms/step - loss: 0.1680 - acc: 0.9338 - val_loss: 0.1822 - val_acc: 0.9287\n",
      "Epoch 4/5\n",
      "70000/70000 [==============================] - 1541s 22ms/step - loss: 0.1512 - acc: 0.9410 - val_loss: 0.1729 - val_acc: 0.9336\n",
      "Epoch 5/5\n",
      "70000/70000 [==============================] - 1580s 23ms/step - loss: 0.1370 - acc: 0.9470 - val_loss: 0.1724 - val_acc: 0.9333\n"
     ]
    }
   ],
   "source": [
    "# Instantiate sequntial model\n",
    "model = Sequential()\n",
    "\n",
    "# Add Embedding Layer\n",
    "model.add(Embedding(vocab_length, embedding_vecor_length, input_length=max_review_length))\n",
    "\n",
    "# Add batch normalization\n",
    "model.add(BatchNormalization())\n",
    "\n",
    "# Add dropout\n",
    "model.add(Dropout(0.20))\n",
    "\n",
    "# Add LSTM Layer\n",
    "model.add(LSTM(100))\n",
    "\n",
    "# Add dropout\n",
    "model.add(Dropout(0.20))\n",
    "\n",
    "# Add Dense Layer\n",
    "model.add(Dense(1, activation='sigmoid'))\n",
    "\n",
    "# Summary of the model\n",
    "print(\"Model Summary: \\n\")\n",
    "model.summary()\n",
    "print()\n",
    "print()\n",
    "\n",
    "# Compile the model \n",
    "model.compile(loss='binary_crossentropy', optimizer='adam', metrics=['accuracy'])\n",
    "\n",
    "# Run the model\n",
    "trained_model = model.fit(x_train, np.array(y_train), batch_size = batch_size, epochs = epochs, verbose=1, validation_data=(x_test, y_test))"
   ]
  },
  {
   "cell_type": "code",
   "execution_count": 27,
   "metadata": {
    "colab": {
     "base_uri": "https://localhost:8080/",
     "height": 34
    },
    "colab_type": "code",
    "executionInfo": {
     "elapsed": 86635,
     "status": "ok",
     "timestamp": 1548003629932,
     "user": {
      "displayName": "Jagan Reddy",
      "photoUrl": "https://lh6.googleusercontent.com/-0OMRpgAMIpI/AAAAAAAAAAI/AAAAAAAAAXU/BmpQ6N8mdxc/s64/photo.jpg",
      "userId": "00769824995077261950"
     },
     "user_tz": -330
    },
    "id": "5842Na1I0LwO",
    "outputId": "42179ece-38ed-4488-d561-8a667a6275cc"
   },
   "outputs": [
    {
     "name": "stdout",
     "output_type": "stream",
     "text": [
      "Test accuracy: 93.33%\n"
     ]
    }
   ],
   "source": [
    "score = model.evaluate(x_test, y_test, verbose=0) \n",
    "print('Test accuracy: {0:.2f}%'.format(score[1]*100))"
   ]
  },
  {
   "cell_type": "code",
   "execution_count": 28,
   "metadata": {
    "colab": {
     "base_uri": "https://localhost:8080/",
     "height": 279
    },
    "colab_type": "code",
    "executionInfo": {
     "elapsed": 1226,
     "status": "ok",
     "timestamp": 1548003712070,
     "user": {
      "displayName": "Jagan Reddy",
      "photoUrl": "https://lh6.googleusercontent.com/-0OMRpgAMIpI/AAAAAAAAAAI/AAAAAAAAAXU/BmpQ6N8mdxc/s64/photo.jpg",
      "userId": "00769824995077261950"
     },
     "user_tz": -330
    },
    "id": "rXp6r1HJxRwh",
    "outputId": "4bab38c5-fe95-4097-899a-b4e4b96138f8"
   },
   "outputs": [
    {
     "data": {
      "image/png": "[encoded data removed]",
      "text/plain": [
       "<Figure size 432x288 with 1 Axes>"
      ]
     },
     "metadata": {
      "tags": []
     },
     "output_type": "display_data"
    }
   ],
   "source": [
    "plot_train_cv_loss(trained_model, epochs)"
   ]
  },
  {
   "cell_type": "markdown",
   "metadata": {
    "colab": {},
    "colab_type": "code",
    "id": "LvvWJaWtcC2d"
   },
   "source": [
    "we are getting test accuracy of 93.33 and after 3 epochs model is over fitting"
   ]
  },
  {
   "cell_type": "markdown",
   "metadata": {},
   "source": [
    "Model 2 with 2 Lstm Layers"
   ]
  },
  {
   "cell_type": "code",
   "execution_count": 27,
   "metadata": {
    "colab": {
     "base_uri": "https://localhost:8080/",
     "height": 675
    },
    "colab_type": "code",
    "executionInfo": {
     "elapsed": 13942875,
     "status": "ok",
     "timestamp": 1547975088419,
     "user": {
      "displayName": "Jagan Reddy",
      "photoUrl": "https://lh6.googleusercontent.com/-0OMRpgAMIpI/AAAAAAAAAAI/AAAAAAAAAXU/BmpQ6N8mdxc/s64/photo.jpg",
      "userId": "00769824995077261950"
     },
     "user_tz": -330
    },
    "id": "j1pqAyQYxolt",
    "outputId": "15c28141-b9f7-41d7-e97e-a59509d14509"
   },
   "outputs": [
    {
     "name": "stdout",
     "output_type": "stream",
     "text": [
      "Model Summary: \n",
      "\n",
      "_________________________________________________________________\n",
      "Layer (type)                 Output Shape              Param #   \n",
      "=================================================================\n",
      "embedding_2 (Embedding)      (None, 500, 32)           183078368 \n",
      "_________________________________________________________________\n",
      "batch_normalization_2 (Batch (None, 500, 32)           128       \n",
      "_________________________________________________________________\n",
      "dropout_4 (Dropout)          (None, 500, 32)           0         \n",
      "_________________________________________________________________\n",
      "lstm_3 (LSTM)                (None, 500, 100)          53200     \n",
      "_________________________________________________________________\n",
      "dropout_5 (Dropout)          (None, 500, 100)          0         \n",
      "_________________________________________________________________\n",
      "lstm_4 (LSTM)                (None, 100)               80400     \n",
      "_________________________________________________________________\n",
      "dropout_6 (Dropout)          (None, 100)               0         \n",
      "_________________________________________________________________\n",
      "dense_2 (Dense)              (None, 1)                 101       \n",
      "=================================================================\n",
      "Total params: 183,212,197\n",
      "Trainable params: 183,212,133\n",
      "Non-trainable params: 64\n",
      "_________________________________________________________________\n",
      "\n",
      "\n",
      "Train on 70000 samples, validate on 30000 samples\n",
      "Epoch 1/5\n",
      "70000/70000 [==============================] - 2799s 40ms/step - loss: 1.7892 - acc: 0.8917 - val_loss: 1.3410 - val_acc: 0.8957\n",
      "Epoch 2/5\n",
      "70000/70000 [==============================] - 2792s 40ms/step - loss: 0.9653 - acc: 0.9208 - val_loss: 0.6861 - val_acc: 0.9200\n",
      "Epoch 3/5\n",
      "70000/70000 [==============================] - 2803s 40ms/step - loss: 0.4603 - acc: 0.9313 - val_loss: 0.3067 - val_acc: 0.9272\n",
      "Epoch 4/5\n",
      "70000/70000 [==============================] - 2776s 40ms/step - loss: 0.1853 - acc: 0.9378 - val_loss: 0.1831 - val_acc: 0.9296\n",
      "Epoch 5/5\n",
      "70000/70000 [==============================] - 2765s 40ms/step - loss: 0.1450 - acc: 0.9434 - val_loss: 0.1768 - val_acc: 0.9330\n"
     ]
    }
   ],
   "source": [
    "# Instantiate sequntial model\n",
    "model = Sequential()\n",
    "\n",
    "# Add Embedding Layer\n",
    "model.add(Embedding(vocab_length, embedding_vecor_length, input_length=max_review_length))\n",
    "\n",
    "# Add batch normalization\n",
    "model.add(BatchNormalization())\n",
    "\n",
    "# Add dropout\n",
    "model.add(Dropout(0.20))\n",
    "\n",
    "# Add LSTM Layer 1\n",
    "model.add(LSTM(100,return_sequences=True,bias_regularizer=reg))\n",
    "\n",
    "# Add dropout\n",
    "model.add(Dropout(0.20))\n",
    "\n",
    "# Add LSTM Layer 2\n",
    "model.add(LSTM(100))\n",
    "\n",
    "# Add dropout\n",
    "model.add(Dropout(0.20))\n",
    "\n",
    "\n",
    "\n",
    "\n",
    "model.add(Dense(1, activation='sigmoid'))\n",
    "# Summary of the model\n",
    "print(\"Model Summary: \\n\")\n",
    "model.summary()\n",
    "print()\n",
    "print()\n",
    "\n",
    "# Compile the model \n",
    "model.compile(loss='binary_crossentropy', optimizer='adam', metrics=['accuracy'])\n",
    "\n",
    "# Run the model\n",
    "trained_model = model.fit(x_train, np.array(y_train), batch_size = batch_size, epochs = epochs, verbose=1, validation_data=(x_test, y_test))"
   ]
  },
  {
   "cell_type": "code",
   "execution_count": 28,
   "metadata": {
    "colab": {
     "base_uri": "https://localhost:8080/",
     "height": 34
    },
    "colab_type": "code",
    "executionInfo": {
     "elapsed": 250446,
     "status": "ok",
     "timestamp": 1547975479387,
     "user": {
      "displayName": "Jagan Reddy",
      "photoUrl": "https://lh6.googleusercontent.com/-0OMRpgAMIpI/AAAAAAAAAAI/AAAAAAAAAXU/BmpQ6N8mdxc/s64/photo.jpg",
      "userId": "00769824995077261950"
     },
     "user_tz": -330
    },
    "id": "JQtM0rFsuPZF",
    "outputId": "9a1c0e22-e249-446f-d588-a001261c201f"
   },
   "outputs": [
    {
     "name": "stdout",
     "output_type": "stream",
     "text": [
      "Test accuracy: 93.30%\n"
     ]
    }
   ],
   "source": [
    "score = model.evaluate(x_test, y_test, verbose=0) \n",
    "print('Test accuracy: {0:.2f}%'.format(score[1]*100))"
   ]
  },
  {
   "cell_type": "code",
   "execution_count": 32,
   "metadata": {
    "colab": {
     "base_uri": "https://localhost:8080/",
     "height": 279
    },
    "colab_type": "code",
    "executionInfo": {
     "elapsed": 1051,
     "status": "ok",
     "timestamp": 1547975715662,
     "user": {
      "displayName": "Jagan Reddy",
      "photoUrl": "https://lh6.googleusercontent.com/-0OMRpgAMIpI/AAAAAAAAAAI/AAAAAAAAAXU/BmpQ6N8mdxc/s64/photo.jpg",
      "userId": "00769824995077261950"
     },
     "user_tz": -330
    },
    "id": "-l0X9bbQuWk2",
    "outputId": "41411070-9031-4b21-bbc9-b84a6e7b7bdb"
   },
   "outputs": [
    {
     "data": {
      "image/png": "[encoded data removed]",
      "text/plain": [
       "<Figure size 432x288 with 1 Axes>"
      ]
     },
     "metadata": {
      "tags": []
     },
     "output_type": "display_data"
    }
   ],
   "source": [
    "plot_train_cv_loss(trained_model, epochs)"
   ]
  },
  {
   "cell_type": "markdown",
   "metadata": {
    "colab": {
     "base_uri": "https://localhost:8080/",
     "height": 34
    },
    "colab_type": "code",
    "executionInfo": {
     "elapsed": 912,
     "status": "ok",
     "timestamp": 1546888422971,
     "user": {
      "displayName": "Jagan Reddy",
      "photoUrl": "https://lh6.googleusercontent.com/-0OMRpgAMIpI/AAAAAAAAAAI/AAAAAAAAAXU/BmpQ6N8mdxc/s64/photo.jpg",
      "userId": "00769824995077261950"
     },
     "user_tz": -330
    },
    "id": "-HYInPUxumA2",
    "outputId": "13c898a6-a531-49fb-aa9c-ccecac38267a"
   },
   "source": [
    "We can see we are getting 93.30 accuracy and after 4 epochs model is not over fitting"
   ]
  },
  {
   "cell_type": "code",
   "execution_count": null,
   "metadata": {},
   "outputs": [],
   "source": [
    "Conclusion Table:"
   ]
  },
  {
   "cell_type": "code",
   "execution_count": 1,
   "metadata": {},
   "outputs": [
    {
     "name": "stdout",
     "output_type": "stream",
     "text": [
      "+--------+----------------+---------------+-----------------+\n",
      "| Model  | Train Accuracy | Test accuracy | Is Over Fitting |\n",
      "+--------+----------------+---------------+-----------------+\n",
      "| Model1 |      94.7      |     93.33     |       Yes       |\n",
      "| Model2 |     94.34      |      93.3     |        No       |\n",
      "+--------+----------------+---------------+-----------------+\n"
     ]
    }
   ],
   "source": [
    "from prettytable import PrettyTable\n",
    "    \n",
    "x = PrettyTable()\n",
    "x.field_names = [\"Model\", \"Train Accuracy\", \"Test accuracy\", \"Is Over Fitting\"]\n",
    "x.add_row([\"Model1\", 94.7, 93.33, 'Yes'])\n",
    "x.add_row([\"Model2\", 94.34, 93.30, 'No'])\n",
    "print(x)"
   ]
  },
  {
   "cell_type": "code",
   "execution_count": null,
   "metadata": {},
   "outputs": [],
   "source": []
  }
 ],
 "metadata": {
  "colab": {
   "collapsed_sections": [],
   "name": "Untitled11.ipynb",
   "provenance": [],
   "version": "0.3.2"
  },
  "kernelspec": {
   "display_name": "Python 3",
   "language": "python",
   "name": "python3"
  },
  "language_info": {
   "codemirror_mode": {
    "name": "ipython",
    "version": 3
   },
   "file_extension": ".py",
   "mimetype": "text/x-python",
   "name": "python",
   "nbconvert_exporter": "python",
   "pygments_lexer": "ipython3",
   "version": "3.6.6"
  }
 },
 "nbformat": 4,
 "nbformat_minor": 1
}
